{
 "cells": [
  {
   "cell_type": "code",
   "execution_count": 1,
   "metadata": {},
   "outputs": [],
   "source": [
    "import pandas as pd\n",
    "import numpy as np\n",
    "import matplotlib.pyplot as plt"
   ]
  },
  {
   "cell_type": "code",
   "execution_count": 2,
   "metadata": {},
   "outputs": [],
   "source": [
    "# Import the training set\n",
    "Trainset = pd.read_csv('Kickstarter_Train.csv')\n",
    "Seed = 42"
   ]
  },
  {
   "cell_type": "markdown",
   "metadata": {},
   "source": [
    "# Preprocessing of the data"
   ]
  },
  {
   "cell_type": "code",
   "execution_count": 3,
   "metadata": {},
   "outputs": [],
   "source": [
    "# There are only a few useful parameters we can pass to our prediction algorithms\n",
    "Trainset = Trainset[['blurb_length', 'category', 'converted_goal_amount',\n",
    "                     'name_length', 'days_total', 'days_until_launch', 'state']]"
   ]
  },
  {
   "cell_type": "code",
   "execution_count": 4,
   "metadata": {},
   "outputs": [],
   "source": [
    "# Hot-one-encoding of the category parameter\n",
    "category_dummies = pd.get_dummies(Trainset['category'], drop_first=True)\n",
    "\n",
    "# Put them together and drop the original category column\n",
    "Trainset = pd.concat([Trainset, category_dummies], axis=1)\n",
    "Trainset.drop('category', axis=1, inplace=True)"
   ]
  },
  {
   "cell_type": "markdown",
   "metadata": {},
   "source": [
    "#### There is a lot of data, so another split into train and test can be performed."
   ]
  },
  {
   "cell_type": "code",
   "execution_count": 5,
   "metadata": {},
   "outputs": [],
   "source": [
    "# Split the set into X and y\n",
    "from sklearn.model_selection import train_test_split\n",
    "X = Trainset.drop('state', axis=1)\n",
    "y = Trainset.state\n",
    "X_train, X_test, y_train, y_test = train_test_split(X, y, test_size=0.25, random_state=42, stratify=y)"
   ]
  },
  {
   "cell_type": "markdown",
   "metadata": {},
   "source": [
    "#### RobustScaler is used as it is more sensitive towards outliers, which are present in the data"
   ]
  },
  {
   "cell_type": "code",
   "execution_count": 6,
   "metadata": {},
   "outputs": [],
   "source": [
    "# Import RobustScaler\n",
    "from sklearn.preprocessing import RobustScaler\n",
    "\n",
    "# Apply Scaling\n",
    "features = ['blurb_length', 'converted_goal_amount', 'name_length', 'days_total', 'days_until_launch']\n",
    "transformer = RobustScaler().fit(X[features])\n",
    "X[features] = transformer.transform(X[features])"
   ]
  },
  {
   "cell_type": "markdown",
   "metadata": {},
   "source": [
    "# Models\n",
    "\n",
    "All Models (except baseline) will be trained and predicted on the trainset. Afterwards the testset will be predicted.  \n",
    "Finally the prediction will be done for the validation set, which at this point is not imported."
   ]
  },
  {
   "cell_type": "code",
   "execution_count": 46,
   "metadata": {},
   "outputs": [],
   "source": [
    "# Import models and other needed modules\n",
    "from sklearn.dummy import DummyClassifier\n",
    "from sklearn.metrics import confusion_matrix\n",
    "from sklearn.neighbors import KNeighborsClassifier\n",
    "from sklearn.metrics import classification_report\n",
    "from sklearn.model_selection import GridSearchCV\n",
    "from sklearn.tree import DecisionTreeClassifier \n",
    "from sklearn.linear_model import LogisticRegression\n",
    "from sklearn.ensemble import RandomForestClassifier\n",
    "from sklearn.model_selection import RandomizedSearchCV\n",
    "from sklearn.metrics import precision_recall_curve\n",
    "from sklearn.metrics import plot_precision_recall_curve\n",
    "from sklearn.metrics import average_precision_score\n",
    "from sklearn.metrics import auc\n",
    "from sklearn.metrics import precision_recall_curve\n",
    "from sklearn.model_selection import cross_val_score\n",
    "from sklearn.metrics import recall_score\n",
    "from sklearn.metrics import make_scorer\n",
    "from sklearn.metrics import average_precision_score"
   ]
  },
  {
   "cell_type": "markdown",
   "metadata": {},
   "source": [
    "#### The focus is on recall, so a scorer is needed for later use in cross-validation"
   ]
  },
  {
   "cell_type": "code",
   "execution_count": 8,
   "metadata": {},
   "outputs": [],
   "source": [
    "# Define scorer\n",
    "scorer = make_scorer(recall_score)"
   ]
  },
  {
   "cell_type": "markdown",
   "metadata": {},
   "source": [
    "## Baseline\n",
    "\n",
    "This is a baseline model, which can be used to compare the models against. "
   ]
  },
  {
   "cell_type": "code",
   "execution_count": 51,
   "metadata": {},
   "outputs": [
    {
     "name": "stdout",
     "output_type": "stream",
     "text": [
      "---------------------------------------------------------\n",
      "[[    0 47146]\n",
      " [    0 66074]]\n",
      "---------------------------------------------------------\n"
     ]
    },
    {
     "name": "stderr",
     "output_type": "stream",
     "text": [
      "/Users/christoph/opt/anaconda3/envs/nf/lib/python3.6/site-packages/sklearn/metrics/_classification.py:1221: UndefinedMetricWarning: Precision and F-score are ill-defined and being set to 0.0 in labels with no predicted samples. Use `zero_division` parameter to control this behavior.\n",
      "  _warn_prf(average, modifier, msg_start, len(result))\n"
     ]
    },
    {
     "name": "stdout",
     "output_type": "stream",
     "text": [
      "              precision    recall  f1-score   support\n",
      "\n",
      "           0       0.00      0.00      0.00     47146\n",
      "           1       0.58      1.00      0.74     66074\n",
      "\n",
      "    accuracy                           0.58    113220\n",
      "   macro avg       0.29      0.50      0.37    113220\n",
      "weighted avg       0.34      0.58      0.43    113220\n",
      "\n",
      "---------------------------------------------------------\n",
      "Recall score: 1.0\n",
      "---------------------------------------------------------\n",
      "PR-AUC score: 0.79\n",
      "---------------------------------------------------------\n",
      "PR-Curve\n",
      "0.583589471824766\n"
     ]
    },
    {
     "data": {
      "image/png": "[encoded data removed]",
      "text/plain": [
       "<Figure size 432x288 with 1 Axes>"
      ]
     },
     "metadata": {
      "needs_background": "light"
     },
     "output_type": "display_data"
    }
   ],
   "source": [
    "# Define model\n",
    "dummy_clf = DummyClassifier(strategy=\"most_frequent\")\n",
    "\n",
    "# Fit on the data\n",
    "dummy_clf.fit(X_train, y_train)\n",
    "\n",
    "# Predict the target value\n",
    "y_pred_dummy = dummy_clf.predict(X_train)\n",
    "\n",
    "# Print the confusion matrix and classification report\n",
    "print('---------------------------------------------------------')\n",
    "print(confusion_matrix(y_train, y_pred_dummy))\n",
    "print('---------------------------------------------------------')\n",
    "print(classification_report(y_train, y_pred_dummy))\n",
    "print('---------------------------------------------------------')\n",
    "print(f'Recall score: {recall_score(y_train, y_pred_dummy)}')\n",
    "\n",
    "# Calculate probability and precision/recall-auc-score\n",
    "y_proba = dummy_clf.predict_proba(X_train)\n",
    "pos_probs = y_proba[:, 1]\n",
    "precision, recall, _ = precision_recall_curve(y_train, pos_probs)\n",
    "\n",
    "# Print evaluation metrics\n",
    "print('---------------------------------------------------------')\n",
    "print(f'PR-AUC score: {auc(recall, precision).round(2)}')\n",
    "print('---------------------------------------------------------')\n",
    "print('PR-Curve')\n",
    "# Plot PR-Curve\n",
    "plot_precision_recall_curve(dummy_clf, X_train, y_train);\n",
    "print(average_precision_score(y_train,y_pred_dummy))"
   ]
  },
  {
   "cell_type": "markdown",
   "metadata": {},
   "source": [
    "As we can see, there is a small imbalance between the two classes: 58/42 %.  \n",
    "The Recall-Score is 1 because there are no false negatives.   "
   ]
  },
  {
   "cell_type": "markdown",
   "metadata": {},
   "source": [
    "## KNN\n",
    "\n",
    "K-nearest neighbor will be the first used model"
   ]
  },
  {
   "cell_type": "markdown",
   "metadata": {},
   "source": [
    "### Trainset\n",
    "\n",
    "Fit and predict on the trainset"
   ]
  },
  {
   "cell_type": "code",
   "execution_count": 66,
   "metadata": {},
   "outputs": [
    {
     "name": "stdout",
     "output_type": "stream",
     "text": [
      "Fitting 3 folds for each of 10 candidates, totalling 30 fits\n"
     ]
    },
    {
     "name": "stderr",
     "output_type": "stream",
     "text": [
      "[Parallel(n_jobs=-1)]: Using backend LokyBackend with 4 concurrent workers.\n",
      "[Parallel(n_jobs=-1)]: Done  30 out of  30 | elapsed:   49.7s finished\n"
     ]
    },
    {
     "name": "stdout",
     "output_type": "stream",
     "text": [
      "Best parameters for KNN\n",
      "---------------\n",
      "N_neighbors : 19\n"
     ]
    }
   ],
   "source": [
    "# Define model and parameters for RandomizedSearchCV\n",
    "knn = KNeighborsClassifier(weights='uniform')\n",
    "param_dist_knn = {'n_neighbors' : [1,2,3,4,5,6,7,8,9,10,11,12,13,14,15,16,17,18,19,20]\n",
    "                 }\n",
    "\n",
    "# Run RandomizedSearchCV\n",
    "knn_best = RandomizedSearchCV(knn, param_dist_knn, verbose=1, n_jobs=-1, scoring=scorer, random_state=Seed, cv=3)\n",
    "knn_best.fit(X_train, y_train)\n",
    "\n",
    "# Print the best parameters\n",
    "print('Best parameters for KNN')\n",
    "print('---------------')\n",
    "for pair in knn_best.best_params_.items():\n",
    "    print(f'{pair[0].capitalize()} : {pair[1]}')"
   ]
  },
  {
   "cell_type": "code",
   "execution_count": 67,
   "metadata": {},
   "outputs": [
    {
     "name": "stdout",
     "output_type": "stream",
     "text": [
      "---------------------------------------------------------\n",
      "[[23806 23340]\n",
      " [10170 55904]]\n",
      "---------------------------------------------------------\n",
      "              precision    recall  f1-score   support\n",
      "\n",
      "           0       0.70      0.50      0.59     47146\n",
      "           1       0.71      0.85      0.77     66074\n",
      "\n",
      "    accuracy                           0.70    113220\n",
      "   macro avg       0.70      0.68      0.68    113220\n",
      "weighted avg       0.70      0.70      0.69    113220\n",
      "\n",
      "---------------------------------------------------------\n",
      "Recall score: 0.8460816660108363\n",
      "---------------------------------------------------------\n",
      "Cross validation scores: [0.66684331 0.67178944 0.66799152 0.66322205 0.66710828 0.67267267\n",
      " 0.66763823 0.67505741 0.66216216 0.66083731]\n"
     ]
    }
   ],
   "source": [
    "# Use the best parameters \n",
    "knn = knn_best.best_estimator_\n",
    "\n",
    "# Fit on the traindata\n",
    "knn.fit(X_train, y_train)\n",
    "\n",
    "# Predict the target value\n",
    "y_pred_knn = knn.predict(X_train)\n",
    "\n",
    "# Print evaluation metrics\n",
    "print('---------------------------------------------------------')\n",
    "print(confusion_matrix(y_train, y_pred_knn))\n",
    "print('---------------------------------------------------------')\n",
    "print(classification_report(y_train, y_pred_knn))\n",
    "print('---------------------------------------------------------')\n",
    "print(f'Recall score: {recall_score(y_train, y_pred_knn)}')\n",
    "print('---------------------------------------------------------')\n",
    "print(f'Cross validation scores: {cross_val_score(knn, X_train, y_train, cv=5, scorer=scoring)}')"
   ]
  },
  {
   "cell_type": "code",
   "execution_count": 68,
   "metadata": {},
   "outputs": [
    {
     "name": "stdout",
     "output_type": "stream",
     "text": [
      "PR-AUC-Score: 0.8\n"
     ]
    },
    {
     "data": {
      "image/png": "[encoded data removed]",
      "text/plain": [
       "<Figure size 432x288 with 1 Axes>"
      ]
     },
     "metadata": {
      "needs_background": "light"
     },
     "output_type": "display_data"
    }
   ],
   "source": [
    "# Calculate probability and precision/recall-auc-score\n",
    "y_proba = knn.predict_proba(X_train)\n",
    "pos_probs = y_proba[:, 1]\n",
    "precision, recall, _ = precision_recall_curve(y_train, pos_probs)\n",
    "\n",
    "print(f'PR-AUC-Score: {auc(recall, precision).round(2)}')\n",
    "\n",
    "# Plot PR-Curve\n",
    "plot_precision_recall_curve(knn, X_train, y_train);"
   ]
  },
  {
   "cell_type": "markdown",
   "metadata": {},
   "source": [
    "The Recall score on the trainset is 0.85 which is not bad for our purposes.  \n",
    "The Curve also looks promising with a good score of 0.8."
   ]
  },
  {
   "cell_type": "markdown",
   "metadata": {},
   "source": [
    "### Testset\n",
    "\n",
    "Predict the testset"
   ]
  },
  {
   "cell_type": "code",
   "execution_count": 43,
   "metadata": {},
   "outputs": [
    {
     "name": "stdout",
     "output_type": "stream",
     "text": [
      "[[ 6540  9175]\n",
      " [ 3216 18809]]\n",
      "---------------------------------------------------------\n",
      "              precision    recall  f1-score   support\n",
      "\n",
      "           0       0.67      0.42      0.51     15715\n",
      "           1       0.67      0.85      0.75     22025\n",
      "\n",
      "    accuracy                           0.67     37740\n",
      "   macro avg       0.67      0.64      0.63     37740\n",
      "weighted avg       0.67      0.67      0.65     37740\n",
      "\n",
      "---------------------------------------------------------\n",
      "Recall score: 0.8539841089670829\n",
      "---------------------------------------------------------\n",
      "Cross validation scores: [0.85720772 0.85062429 0.85085131 0.8476731  0.85062429]\n"
     ]
    }
   ],
   "source": [
    "# Predict the Testset\n",
    "y_pred_knn_test = knn.predict(X_test)\n",
    "\n",
    "# Print evaluation metrics\n",
    "print(confusion_matrix(y_test, y_pred_knn_test))\n",
    "print('---------------------------------------------------------')\n",
    "print(classification_report(y_test, y_pred_knn_test))\n",
    "print('---------------------------------------------------------')\n",
    "print(f'Recall score: {recall_score(y_test, y_pred_knn_test)}')\n",
    "print('---------------------------------------------------------')\n",
    "print(f'Cross validation scores: {cross_val_score(knn, X_test, y_test, cv=5, scoring=scorer)}')"
   ]
  },
  {
   "cell_type": "code",
   "execution_count": 44,
   "metadata": {},
   "outputs": [
    {
     "name": "stdout",
     "output_type": "stream",
     "text": [
      "PR-AUC-Score: 0.74\n"
     ]
    },
    {
     "data": {
      "image/png": "[encoded data removed]",
      "text/plain": [
       "<Figure size 432x288 with 1 Axes>"
      ]
     },
     "metadata": {
      "needs_background": "light"
     },
     "output_type": "display_data"
    }
   ],
   "source": [
    "# Calculate probability and precision/recall-auc-score\n",
    "y_proba = knn.predict_proba(X_test)\n",
    "pos_probs = y_proba[:, 1]\n",
    "precision, recall, _ = precision_recall_curve(y_test, pos_probs)\n",
    "\n",
    "print(f'PR-AUC-Score: {auc(recall, precision).round(2)}')\n",
    "\n",
    "# Plot PR-Curve\n",
    "plot_precision_recall_curve(knn, X_test, y_test);"
   ]
  },
  {
   "cell_type": "markdown",
   "metadata": {},
   "source": [
    "KNN still reaches a good Recall score of 0.81.  \n",
    "The Curve score dropped to 0.73."
   ]
  },
  {
   "cell_type": "markdown",
   "metadata": {},
   "source": [
    "## Decision Tree Classifier"
   ]
  },
  {
   "cell_type": "markdown",
   "metadata": {},
   "source": [
    "### Trainset"
   ]
  },
  {
   "cell_type": "code",
   "execution_count": 15,
   "metadata": {},
   "outputs": [
    {
     "name": "stdout",
     "output_type": "stream",
     "text": [
      "Fitting 3 folds for each of 36 candidates, totalling 108 fits\n"
     ]
    },
    {
     "name": "stderr",
     "output_type": "stream",
     "text": [
      "[Parallel(n_jobs=-1)]: Using backend LokyBackend with 4 concurrent workers.\n",
      "[Parallel(n_jobs=-1)]: Done  76 tasks      | elapsed:    7.0s\n"
     ]
    },
    {
     "name": "stdout",
     "output_type": "stream",
     "text": [
      "Best parameters for DecionsTreeClassifier\n",
      "---------------\n",
      "Criterion : gini\n",
      "Max_depth : 5\n",
      "Max_features : sqrt\n"
     ]
    },
    {
     "name": "stderr",
     "output_type": "stream",
     "text": [
      "[Parallel(n_jobs=-1)]: Done 108 out of 108 | elapsed:   10.9s finished\n"
     ]
    }
   ],
   "source": [
    "# Define model and parameters for GridSearch\n",
    "tree = DecisionTreeClassifier(random_state=Seed, class_weight='balanced')\n",
    "param_dist_tree = {'criterion' : ['gini', 'entropy'],\n",
    "                  'max_depth' : [5,10,15,20,25,30],\n",
    "                  'max_features' : ['sqrt', 'log2', None]\n",
    "                  }\n",
    "\n",
    "# Run GridSearch\n",
    "tree_best = GridSearchCV(tree, param_dist_tree, scoring=scorer, cv=3, n_jobs=-1, verbose=1)\n",
    "tree_best.fit(X_train, y_train)\n",
    "\n",
    "# Print the best paramaters\n",
    "print('Best parameters for DecionsTreeClassifier')\n",
    "print('---------------')\n",
    "for pair in tree_best.best_params_.items():\n",
    "    print(f'{pair[0].capitalize()} : {pair[1]}')"
   ]
  },
  {
   "cell_type": "code",
   "execution_count": 16,
   "metadata": {},
   "outputs": [
    {
     "name": "stdout",
     "output_type": "stream",
     "text": [
      "[[23501 23645]\n",
      " [15699 50375]]\n",
      "---------------------------------------------------------\n",
      "              precision    recall  f1-score   support\n",
      "\n",
      "           0       0.60      0.50      0.54     47146\n",
      "           1       0.68      0.76      0.72     66074\n",
      "\n",
      "    accuracy                           0.65    113220\n",
      "   macro avg       0.64      0.63      0.63    113220\n",
      "weighted avg       0.65      0.65      0.65    113220\n",
      "\n",
      "---------------------------------------------------------\n",
      "Recall score: 0.7624027605412114\n",
      "---------------------------------------------------------\n",
      "Cross validation scores: [0.76222189 0.77281671 0.80959588 0.75707583 0.75192977 0.76479491\n",
      " 0.75605327 0.75060533 0.77133777 0.75680993]\n"
     ]
    }
   ],
   "source": [
    "# Use the best parameters on the model\n",
    "tree = tree_best.best_estimator_\n",
    "\n",
    "# Fit on the data\n",
    "tree.fit(X_train, y_train)\n",
    "\n",
    "# Predict the target value\n",
    "y_pred_tree = tree.predict(X_train)\n",
    "\n",
    "# Print evaluation metrics\n",
    "print(confusion_matrix(y_train, y_pred_tree))\n",
    "print('---------------------------------------------------------')\n",
    "print(classification_report(y_train, y_pred_tree))\n",
    "print('---------------------------------------------------------')\n",
    "print(f'Recall score: {recall_score(y_train, y_pred_tree)}')\n",
    "print('---------------------------------------------------------')\n",
    "print(f'Cross validation scores: {cross_val_score(tree, X_train, y_train, cv=10, scoring=scorer)}')"
   ]
  },
  {
   "cell_type": "code",
   "execution_count": 17,
   "metadata": {},
   "outputs": [
    {
     "name": "stdout",
     "output_type": "stream",
     "text": [
      "PR-AUC-Score : 0.71\n"
     ]
    },
    {
     "data": {
      "image/png": "[encoded data removed]",
      "text/plain": [
       "<Figure size 432x288 with 1 Axes>"
      ]
     },
     "metadata": {
      "needs_background": "light"
     },
     "output_type": "display_data"
    }
   ],
   "source": [
    "# Calculate probability and precision/recall-auc-score\n",
    "y_proba = tree.predict_proba(X_train)\n",
    "pos_probs = y_proba[:, 1]\n",
    "precision, recall, _ = precision_recall_curve(y_train, pos_probs)\n",
    "\n",
    "print(f'PR-AUC-Score : {auc(recall, precision).round(2)}')\n",
    "\n",
    "# Plot PR-Curve\n",
    "disp = plot_precision_recall_curve(tree, X_train, y_train);"
   ]
  },
  {
   "cell_type": "markdown",
   "metadata": {},
   "source": [
    "The Recall score on the trainset is 0.76, which is worse then KNN.  \n",
    "The Curve score is also worse with 0.71.\n",
    "The best parameter of the tree only has a depth of 5, which is unexpected since a better result should be reached with more depth."
   ]
  },
  {
   "cell_type": "markdown",
   "metadata": {},
   "source": [
    "### Testset"
   ]
  },
  {
   "cell_type": "code",
   "execution_count": 18,
   "metadata": {},
   "outputs": [
    {
     "name": "stdout",
     "output_type": "stream",
     "text": [
      "[[ 7883  7832]\n",
      " [ 5167 16858]]\n",
      "---------------------------------------------------------\n",
      "              precision    recall  f1-score   support\n",
      "\n",
      "           0       0.60      0.50      0.55     15715\n",
      "           1       0.68      0.77      0.72     22025\n",
      "\n",
      "    accuracy                           0.66     37740\n",
      "   macro avg       0.64      0.63      0.63     37740\n",
      "weighted avg       0.65      0.66      0.65     37740\n",
      "\n",
      "---------------------------------------------------------\n",
      "Recall score: 0.7654029511918274\n",
      "---------------------------------------------------------\n",
      "Cross validation scores: [0.78206583 0.76027242 0.74710556 0.78138479 0.7600454 ]\n"
     ]
    }
   ],
   "source": [
    "# Testset\n",
    "y_pred_tree_test = tree.predict(X_test)\n",
    "\n",
    "# Print evaluation metrics\n",
    "print(confusion_matrix(y_test, y_pred_tree_test))\n",
    "print('---------------------------------------------------------')\n",
    "print(classification_report(y_test, y_pred_tree_test))\n",
    "print('---------------------------------------------------------')\n",
    "print(f'Recall score: {recall_score(y_test, y_pred_tree_test)}')\n",
    "print('---------------------------------------------------------')\n",
    "print(f'Cross validation scores: {cross_val_score(tree, X_test, y_test, cv=5, scoring=scorer)}')"
   ]
  },
  {
   "cell_type": "code",
   "execution_count": 19,
   "metadata": {},
   "outputs": [
    {
     "name": "stdout",
     "output_type": "stream",
     "text": [
      "PR-AUC-Score: 0.71\n"
     ]
    },
    {
     "data": {
      "image/png": "[encoded data removed]",
      "text/plain": [
       "<Figure size 432x288 with 1 Axes>"
      ]
     },
     "metadata": {
      "needs_background": "light"
     },
     "output_type": "display_data"
    }
   ],
   "source": [
    "# Calculate probability and precision/recall-auc-score\n",
    "y_proba = tree.predict_proba(X_test)\n",
    "pos_probs = y_proba[:, 1]\n",
    "precision, recall, _ = precision_recall_curve(y_test, pos_probs)\n",
    "\n",
    "print(f'PR-AUC-Score: {auc(recall, precision).round(2)}')\n",
    "\n",
    "# Plot PR-Curve\n",
    "plot_precision_recall_curve(tree, X_test, y_test);"
   ]
  },
  {
   "cell_type": "markdown",
   "metadata": {},
   "source": [
    "Recall and Curve score of the testset are identical to the trainset, which at least speaks for the models consistency."
   ]
  },
  {
   "cell_type": "markdown",
   "metadata": {},
   "source": [
    "## Logistic Regression"
   ]
  },
  {
   "cell_type": "markdown",
   "metadata": {},
   "source": [
    "### Trainset"
   ]
  },
  {
   "cell_type": "code",
   "execution_count": 20,
   "metadata": {},
   "outputs": [
    {
     "name": "stdout",
     "output_type": "stream",
     "text": [
      "Best parameters for LogisticRegression\n",
      "---------------\n",
      "C : 2\n"
     ]
    }
   ],
   "source": [
    "# Define model and parameters for GridSearch\n",
    "lr = LogisticRegression(max_iter=1000, random_state=Seed, class_weight='balanced')\n",
    "param_dist_lr = {'C' : [1,2,3,4,5,6,7,8,9,10]\n",
    "                }\n",
    "\n",
    "# Run GridSearch\n",
    "lr_best = GridSearchCV(lr, param_dist_lr, scoring=scorer, cv=3)\n",
    "lr_best.fit(X_train, y_train)\n",
    "\n",
    "# Print the best parameters\n",
    "print('Best parameters for LogisticRegression')\n",
    "print('---------------')\n",
    "for pair in lr_best.best_params_.items():\n",
    "    print(f'{pair[0].capitalize()} : {pair[1]}')"
   ]
  },
  {
   "cell_type": "code",
   "execution_count": 21,
   "metadata": {},
   "outputs": [
    {
     "name": "stdout",
     "output_type": "stream",
     "text": [
      "[[26122 21024]\n",
      " [21775 44299]]\n",
      "---------------------------------------------------------\n",
      "              precision    recall  f1-score   support\n",
      "\n",
      "           0       0.55      0.55      0.55     47146\n",
      "           1       0.68      0.67      0.67     66074\n",
      "\n",
      "    accuracy                           0.62    113220\n",
      "   macro avg       0.61      0.61      0.61    113220\n",
      "weighted avg       0.62      0.62      0.62    113220\n",
      "\n",
      "---------------------------------------------------------\n",
      "Recall score: 0.6704452583467022\n",
      "---------------------------------------------------------\n",
      "Cross validation scores: [0.67216588 0.68134695 0.66121831 0.6636398  0.67317442]\n"
     ]
    }
   ],
   "source": [
    "# Use the best parameters on the model\n",
    "lr = lr_best.best_estimator_\n",
    "\n",
    "# Fit on the data\n",
    "lr.fit(X_train, y_train)\n",
    "\n",
    "# Predict the target value\n",
    "y_pred_lr_train = lr.predict(X_train)\n",
    "\n",
    "# Print the confusion matrix and classification report\n",
    "print(confusion_matrix(y_train, y_pred_lr_train))\n",
    "print('---------------------------------------------------------')\n",
    "print(classification_report(y_train, y_pred_lr_train))\n",
    "print('---------------------------------------------------------')\n",
    "print(f'Recall score: {recall_score(y_train, y_pred_lr_train)}')\n",
    "print('---------------------------------------------------------')\n",
    "print(f'Cross validation scores: {cross_val_score(lr, X_train, y_train, cv=5, scoring=scorer)}')"
   ]
  },
  {
   "cell_type": "code",
   "execution_count": 22,
   "metadata": {},
   "outputs": [
    {
     "name": "stdout",
     "output_type": "stream",
     "text": [
      "PR-AUC-Score: 0.69\n"
     ]
    },
    {
     "data": {
      "image/png": "[encoded data removed]",
      "text/plain": [
       "<Figure size 432x288 with 1 Axes>"
      ]
     },
     "metadata": {
      "needs_background": "light"
     },
     "output_type": "display_data"
    }
   ],
   "source": [
    "# Plot PR-Curve\n",
    "y_proba = lr.predict_proba(X_train)\n",
    "pos_probs = y_proba[:, 1]\n",
    "precision, recall, _ = precision_recall_curve(y_train, pos_probs)\n",
    "\n",
    "print(f'PR-AUC-Score: {auc(recall, precision).round(2)}')\n",
    "\n",
    "# Print PR-Curve\n",
    "disp = plot_precision_recall_curve(lr, X_train, y_train)"
   ]
  },
  {
   "cell_type": "markdown",
   "metadata": {},
   "source": [
    "A Recall of 0.67 and the Curve score of 0.69 suggests that the logistic regressions tends to put more samples into the negative category."
   ]
  },
  {
   "cell_type": "markdown",
   "metadata": {},
   "source": [
    "### Testset"
   ]
  },
  {
   "cell_type": "code",
   "execution_count": 23,
   "metadata": {},
   "outputs": [
    {
     "name": "stdout",
     "output_type": "stream",
     "text": [
      "[[ 8773  6942]\n",
      " [ 7074 14951]]\n",
      "---------------------------------------------------------\n",
      "              precision    recall  f1-score   support\n",
      "\n",
      "           0       0.55      0.56      0.56     15715\n",
      "           1       0.68      0.68      0.68     22025\n",
      "\n",
      "    accuracy                           0.63     37740\n",
      "   macro avg       0.62      0.62      0.62     37740\n",
      "weighted avg       0.63      0.63      0.63     37740\n",
      "\n",
      "---------------------------------------------------------\n",
      "Recall score: 0.6788195232690125\n",
      "---------------------------------------------------------\n",
      "Cross validation scores: [0.6599319  0.67786606 0.68036322 0.67219069 0.66992054]\n"
     ]
    }
   ],
   "source": [
    "# Testset\n",
    "y_pred_lr_test = lr.predict(X_test)\n",
    "\n",
    "# Print evaluation metrics\n",
    "print(confusion_matrix(y_test, y_pred_lr_test))\n",
    "print('---------------------------------------------------------')\n",
    "print(classification_report(y_test, y_pred_lr_test))\n",
    "print('---------------------------------------------------------')\n",
    "print(f'Recall score: {recall_score(y_test, y_pred_lr_test)}')\n",
    "print('---------------------------------------------------------')\n",
    "print(f'Cross validation scores: {cross_val_score(lr, X_test, y_test, cv=5, scoring=scorer)}')"
   ]
  },
  {
   "cell_type": "code",
   "execution_count": 24,
   "metadata": {},
   "outputs": [
    {
     "name": "stdout",
     "output_type": "stream",
     "text": [
      "PR-AUC-Score: 0.7\n"
     ]
    },
    {
     "data": {
      "image/png": "[encoded data removed]",
      "text/plain": [
       "<Figure size 432x288 with 1 Axes>"
      ]
     },
     "metadata": {
      "needs_background": "light"
     },
     "output_type": "display_data"
    }
   ],
   "source": [
    "# Calculate probability and precision/recall-auc-score\n",
    "y_proba = lr.predict_proba(X_test)\n",
    "pos_probs = y_proba[:, 1]\n",
    "precision, recall, _ = precision_recall_curve(y_test, pos_probs)\n",
    "\n",
    "print(f'PR-AUC-Score: {auc(recall, precision).round(2)}')\n",
    "\n",
    "# Plot PR-Curve\n",
    "plot_precision_recall_curve(lr, X_test, y_test);"
   ]
  },
  {
   "cell_type": "markdown",
   "metadata": {},
   "source": [
    "Scores for the testset and trainset are nearly identical making it a consistent model, much like the Decision tree."
   ]
  },
  {
   "cell_type": "markdown",
   "metadata": {},
   "source": [
    "## Random Forest"
   ]
  },
  {
   "cell_type": "markdown",
   "metadata": {},
   "source": [
    "### Trainset"
   ]
  },
  {
   "cell_type": "code",
   "execution_count": 26,
   "metadata": {},
   "outputs": [
    {
     "name": "stdout",
     "output_type": "stream",
     "text": [
      "Fitting 3 folds for each of 100 candidates, totalling 300 fits\n"
     ]
    },
    {
     "name": "stderr",
     "output_type": "stream",
     "text": [
      "[Parallel(n_jobs=-1)]: Using backend LokyBackend with 4 concurrent workers.\n",
      "[Parallel(n_jobs=-1)]: Done  42 tasks      | elapsed:  1.9min\n",
      "[Parallel(n_jobs=-1)]: Done 192 tasks      | elapsed:  8.2min\n",
      "[Parallel(n_jobs=-1)]: Done 300 out of 300 | elapsed: 12.9min finished\n"
     ]
    },
    {
     "name": "stdout",
     "output_type": "stream",
     "text": [
      "Best parameters for RandomForest\n",
      "---------------\n",
      "Min_samples_split : 5\n",
      "Min_samples_leaf : 15\n",
      "Max_leaf_nodes : 100\n",
      "Max_features : sqrt\n",
      "Max_depth : 10.0\n",
      "Class_weight : balanced_subsample\n",
      "Bootstrap : False\n"
     ]
    }
   ],
   "source": [
    "# Define model and parameters for RandomizedSearchCV\n",
    "rf = RandomForestClassifier(random_state=Seed)\n",
    "param_dist_rf = {'max_features' : ['sqrt', 'log2'],\n",
    "                 'max_depth' : np.linspace(10, 110, num = 11).tolist() + [None],\n",
    "                 'min_samples_split' : [5, 10, 15],\n",
    "                 'min_samples_leaf' : [10,15,20],\n",
    "                 'bootstrap' : [True, False],\n",
    "                 'max_leaf_nodes' : [50,100],\n",
    "                 'class_weight' : ['balanced', 'balanced_subsample']\n",
    "                }\n",
    "\n",
    "# Run RandomizedSearchCV\n",
    "rf_best = RandomizedSearchCV(rf, param_dist_rf, n_iter = 100, cv = 3, scoring=scorer,\n",
    "                               verbose=1, random_state=Seed, n_jobs = -1)\n",
    "rf_best.fit(X_train, y_train)\n",
    "\n",
    "# Print the best parameters\n",
    "print('Best parameters for RandomForest')\n",
    "print('---------------')\n",
    "for pair in rf_best.best_params_.items():\n",
    "    print(f'{pair[0].capitalize()} : {pair[1]}')"
   ]
  },
  {
   "cell_type": "code",
   "execution_count": 27,
   "metadata": {},
   "outputs": [
    {
     "name": "stdout",
     "output_type": "stream",
     "text": [
      "[[30887 16259]\n",
      " [17761 48313]]\n",
      "---------------------------------------------------------\n",
      "              precision    recall  f1-score   support\n",
      "\n",
      "           0       0.63      0.66      0.64     47146\n",
      "           1       0.75      0.73      0.74     66074\n",
      "\n",
      "    accuracy                           0.70    113220\n",
      "   macro avg       0.69      0.69      0.69    113220\n",
      "weighted avg       0.70      0.70      0.70    113220\n",
      "\n",
      "---------------------------------------------------------\n",
      "Recall score: 0.7311953264521597\n",
      "---------------------------------------------------------\n",
      "Cross validation scores: [0.71711821 0.73664295 0.73437264 0.73225367 0.72968064 0.73361586\n",
      " 0.72321429 0.72260896 0.72911622 0.71973366]\n"
     ]
    }
   ],
   "source": [
    "# Use the best parameters on the model\n",
    "rf = rf_best.best_estimator_\n",
    "\n",
    "# Fit on the data\n",
    "rf.fit(X_train, y_train)\n",
    "\n",
    "# Predict the target value\n",
    "y_pred_rf = rf.predict(X_train)\n",
    "\n",
    "# Print the confusion matrix and classification report\n",
    "# Print evaluation metrics\n",
    "print(confusion_matrix(y_train, y_pred_rf))\n",
    "print('---------------------------------------------------------')\n",
    "print(classification_report(y_train, y_pred_rf))\n",
    "print('---------------------------------------------------------')\n",
    "print(f'Recall score: {recall_score(y_train, y_pred_rf)}')\n",
    "print('---------------------------------------------------------')\n",
    "print(f'Cross validation scores: {cross_val_score(rf, X_train, y_train, cv=10, scoring=scorer)}')"
   ]
  },
  {
   "cell_type": "code",
   "execution_count": 28,
   "metadata": {},
   "outputs": [
    {
     "name": "stdout",
     "output_type": "stream",
     "text": [
      "PR-AUC-Score: 0.8\n"
     ]
    },
    {
     "data": {
      "image/png": "[encoded data removed]",
      "text/plain": [
       "<Figure size 432x288 with 1 Axes>"
      ]
     },
     "metadata": {
      "needs_background": "light"
     },
     "output_type": "display_data"
    }
   ],
   "source": [
    "# Calculate probability and precision/recall-auc-score\n",
    "y_proba = rf.predict_proba(X_train)\n",
    "pos_probs = y_proba[:, 1]\n",
    "precision, recall, _ = precision_recall_curve(y_train, pos_probs)\n",
    "\n",
    "print(f'PR-AUC-Score: {auc(recall, precision).round(2)}')\n",
    "\n",
    "# Plot PR-Curve\n",
    "disp = plot_precision_recall_curve(rf, X_train, y_train)"
   ]
  },
  {
   "cell_type": "markdown",
   "metadata": {},
   "source": [
    "The recall score is quite low with 0.73, but we have the highest curve score yet, which suggests a good balance between precision and recall."
   ]
  },
  {
   "cell_type": "markdown",
   "metadata": {},
   "source": [
    "### Testset"
   ]
  },
  {
   "cell_type": "code",
   "execution_count": 29,
   "metadata": {},
   "outputs": [
    {
     "name": "stdout",
     "output_type": "stream",
     "text": [
      "[[10339  5376]\n",
      " [ 5985 16040]]\n",
      "---------------------------------------------------------\n",
      "              precision    recall  f1-score   support\n",
      "\n",
      "           0       0.63      0.66      0.65     15715\n",
      "           1       0.75      0.73      0.74     22025\n",
      "\n",
      "    accuracy                           0.70     37740\n",
      "   macro avg       0.69      0.69      0.69     37740\n",
      "weighted avg       0.70      0.70      0.70     37740\n",
      "\n",
      "---------------------------------------------------------\n",
      "Recall score: 0.7282633371169126\n",
      "---------------------------------------------------------\n",
      "Cross validation scores: [0.69450749 0.71856559 0.73490695 0.70403995 0.72764412 0.72479564\n",
      " 0.7075386  0.71934605 0.72797457 0.73433243]\n"
     ]
    }
   ],
   "source": [
    "# Predict testset\n",
    "y_pred_rf_test = rf.predict(X_test)\n",
    "\n",
    "# Print evaluation metrics\n",
    "print(confusion_matrix(y_test, y_pred_rf_test))\n",
    "print('---------------------------------------------------------')\n",
    "print(classification_report(y_test, y_pred_rf_test))\n",
    "print('---------------------------------------------------------')\n",
    "print(f'Recall score: {recall_score(y_test, y_pred_rf_test)}')\n",
    "print('---------------------------------------------------------')\n",
    "print(f'Cross validation scores: {cross_val_score(rf, X_test, y_test, cv=10, scoring=scorer)}')"
   ]
  },
  {
   "cell_type": "code",
   "execution_count": 30,
   "metadata": {},
   "outputs": [
    {
     "name": "stdout",
     "output_type": "stream",
     "text": [
      "PR-AUC-Score: 0.79\n"
     ]
    },
    {
     "data": {
      "image/png": "[encoded data removed]",
      "text/plain": [
       "<Figure size 432x288 with 1 Axes>"
      ]
     },
     "metadata": {
      "needs_background": "light"
     },
     "output_type": "display_data"
    }
   ],
   "source": [
    "# Calculate probability and precision/recall-auc-score\n",
    "y_proba = rf.predict_proba(X_test)\n",
    "pos_probs = y_proba[:, 1]\n",
    "precision, recall, _ = precision_recall_curve(y_test, pos_probs)\n",
    "\n",
    "print(f'PR-AUC-Score: {auc(recall, precision).round(2)}')\n",
    "\n",
    "# Plot PR-Curve\n",
    "disp = plot_precision_recall_curve(rf, X_test, y_test)"
   ]
  },
  {
   "cell_type": "markdown",
   "metadata": {},
   "source": [
    "Pretty much the same as the trainset."
   ]
  },
  {
   "cell_type": "markdown",
   "metadata": {},
   "source": [
    "# Model Validation on unused data\n",
    "\n",
    "We now important the validation set and transform it in the same way as the trainset."
   ]
  },
  {
   "cell_type": "code",
   "execution_count": 34,
   "metadata": {},
   "outputs": [],
   "source": [
    "Val_data = pd.read_csv('Kickstarter_Validation.csv')\n",
    "Val_data = Val_data[['blurb_length', 'category', 'converted_goal_amount',\n",
    "            'name_length', 'days_total', 'days_until_launch', 'state']]\n",
    "\n",
    "# Hot-one-encoding of the category parameter\n",
    "category_dummies = pd.get_dummies(Val_data['category'], drop_first=True)\n",
    "\n",
    "# Put them together and drop the original category column\n",
    "Val_data = pd.concat([Val_data, category_dummies], axis=1)\n",
    "Val_data.drop('category', axis=1, inplace=True)\n",
    "\n",
    "# Split the set into X and y\n",
    "X_val = Val_data.drop('state', axis=1)\n",
    "y_val = Val_data.state\n",
    "\n",
    "# Apply scaling from trainset\n",
    "features = ['blurb_length', 'converted_goal_amount', 'name_length', 'days_total', 'days_until_launch']\n",
    "X_val[features] = transformer.transform(X_val[features])"
   ]
  },
  {
   "cell_type": "markdown",
   "metadata": {},
   "source": [
    "### Fit Models onto the validation set"
   ]
  },
  {
   "cell_type": "code",
   "execution_count": 70,
   "metadata": {},
   "outputs": [
    {
     "name": "stdout",
     "output_type": "stream",
     "text": [
      "[[    4 20950]\n",
      " [    0 29366]]\n",
      "---------------------------------------------------------\n",
      "              precision    recall  f1-score   support\n",
      "\n",
      "           0       1.00      0.00      0.00     20954\n",
      "           1       0.58      1.00      0.74     29366\n",
      "\n",
      "    accuracy                           0.58     50320\n",
      "   macro avg       0.79      0.50      0.37     50320\n",
      "weighted avg       0.76      0.58      0.43     50320\n",
      "\n",
      "---------------------------------------------------------\n",
      "Recall score: 1.0\n",
      "---------------------------------------------------------\n",
      "Cross validation scores: [0.68111363 0.68252549 0.68413522]\n",
      "PR-AUC-Score: 0.4867549971091235\n"
     ]
    },
    {
     "data": {
      "image/png": "[encoded data removed]",
      "text/plain": [
       "<Figure size 432x288 with 1 Axes>"
      ]
     },
     "metadata": {
      "needs_background": "light"
     },
     "output_type": "display_data"
    }
   ],
   "source": [
    "knn.fit(X_train, y_train)\n",
    "\n",
    "# Predict the target value\n",
    "y_pred_knn_val = knn.predict(X_val)\n",
    "\n",
    "# Print the confusion matrix and classification report\n",
    "print(confusion_matrix(y_val, y_pred_knn_val))\n",
    "print('---------------------------------------------------------')\n",
    "print(classification_report(y_val, y_pred_knn_val))\n",
    "print('---------------------------------------------------------')\n",
    "print(f'Recall score: {recall_score(y_val, y_pred_knn_val)}')\n",
    "print('---------------------------------------------------------')\n",
    "print(f'Cross validation scores: {cross_val_score(knn, X_val, y_val, cv=3)}')\n",
    "\n",
    "y_proba = knn.predict_proba(X_val)\n",
    "pos_probs = y_proba[:, 1]\n",
    "precision, recall, _ = precision_recall_curve(y_val, pos_probs)\n",
    "\n",
    "print(f'PR-AUC-Score: {auc(recall, precision)}')\n",
    "\n",
    "disp = plot_precision_recall_curve(knn, X_val, y_val)"
   ]
  },
  {
   "cell_type": "markdown",
   "metadata": {},
   "source": [
    "KNN very obviously has a problem here. The Recall score is at 1 because the algorithm set nearly all predictions as positive. The curve score dropped below 0.5.  \n",
    "It is clear that the KNN in this iteration doesn't seem to be an appropriate algorithm for the problem at hand."
   ]
  },
  {
   "cell_type": "code",
   "execution_count": 63,
   "metadata": {},
   "outputs": [
    {
     "name": "stdout",
     "output_type": "stream",
     "text": [
      "[[ 6609 14345]\n",
      " [ 3900 25466]]\n",
      "---------------------------------------------------------\n",
      "              precision    recall  f1-score   support\n",
      "\n",
      "           0       0.63      0.32      0.42     20954\n",
      "           1       0.64      0.87      0.74     29366\n",
      "\n",
      "    accuracy                           0.64     50320\n",
      "   macro avg       0.63      0.59      0.58     50320\n",
      "weighted avg       0.64      0.64      0.60     50320\n",
      "\n",
      "---------------------------------------------------------\n",
      "Recall score: 0.8671933528570456\n",
      "---------------------------------------------------------\n",
      "Cross validation scores: [0.74659401 0.73262943 0.73058583 0.73331063 0.72795369 0.71229145\n",
      " 0.71739871 0.73748723 0.73272046 0.71842016]\n",
      "PR-AUC-Score: 0.6964698757132932\n"
     ]
    },
    {
     "data": {
      "image/png": "[encoded data removed]",
      "text/plain": [
       "<Figure size 432x288 with 1 Axes>"
      ]
     },
     "metadata": {
      "needs_background": "light"
     },
     "output_type": "display_data"
    }
   ],
   "source": [
    "rf.fit(X_train, y_train)\n",
    "\n",
    "# Predict the target value\n",
    "y_pred_rf_test = rf.predict(X_val)\n",
    "\n",
    "# Print the confusion matrix and classification report\n",
    "print(confusion_matrix(y_val, y_pred_rf_test))\n",
    "print('---------------------------------------------------------')\n",
    "print(classification_report(y_val, y_pred_rf_test))\n",
    "print('---------------------------------------------------------')\n",
    "print(f'Recall score: {recall_score(y_val, y_pred_rf_test)}')\n",
    "print('---------------------------------------------------------')\n",
    "print(f'Cross validation scores: {cross_val_score(rf, X_val, y_val, cv=10, scoring=scorer)}')\n",
    "\n",
    "y_proba = rf.predict_proba(X_val)\n",
    "pos_probs = y_proba[:, 1]\n",
    "precision, recall, _ = precision_recall_curve(y_val, pos_probs)\n",
    "\n",
    "print(f'PR-AUC-Score: {auc(recall, precision)}')\n",
    "disp = plot_precision_recall_curve(rf, X_val, y_val)"
   ]
  },
  {
   "cell_type": "markdown",
   "metadata": {},
   "source": [
    "The Random forest does really well with a recall score of 0.87 and a curve score of 0.7. This suggests a suiteable tradeoff between precision and recall for our purposes"
   ]
  },
  {
   "cell_type": "code",
   "execution_count": 64,
   "metadata": {},
   "outputs": [
    {
     "name": "stdout",
     "output_type": "stream",
     "text": [
      "[[ 5590 15364]\n",
      " [ 3428 25938]]\n",
      "---------------------------------------------------------\n",
      "              precision    recall  f1-score   support\n",
      "\n",
      "           0       0.62      0.27      0.37     20954\n",
      "           1       0.63      0.88      0.73     29366\n",
      "\n",
      "    accuracy                           0.63     50320\n",
      "   macro avg       0.62      0.58      0.55     50320\n",
      "weighted avg       0.62      0.63      0.58     50320\n",
      "\n",
      "---------------------------------------------------------\n",
      "Recall score: 0.8832663624599877\n",
      "---------------------------------------------------------\n",
      "Cross validation scores: [0.78031335 0.76668937 0.75408719 0.75374659 0.76540688 0.75212802\n",
      " 0.74804222 0.76949268 0.7504256  0.75314947]\n",
      "PR-AUC-Score: 0.6718886546866298\n"
     ]
    },
    {
     "data": {
      "image/png": "[encoded data removed]",
      "text/plain": [
       "<Figure size 432x288 with 1 Axes>"
      ]
     },
     "metadata": {
      "needs_background": "light"
     },
     "output_type": "display_data"
    }
   ],
   "source": [
    "tree.fit(X_train, y_train)\n",
    "\n",
    "# Predict the target value\n",
    "y_pred_tree_val = tree.predict(X_val)\n",
    "\n",
    "# Print the confusion matrix and classification report\n",
    "print(confusion_matrix(y_val, y_pred_tree_val))\n",
    "print('---------------------------------------------------------')\n",
    "print(classification_report(y_val, y_pred_tree_val))\n",
    "print('---------------------------------------------------------')\n",
    "print(f'Recall score: {recall_score(y_val, y_pred_tree_val)}')\n",
    "print('---------------------------------------------------------')\n",
    "print(f'Cross validation scores: {cross_val_score(tree, X_val, y_val, cv=10, scoring=scorer)}')\n",
    "\n",
    "y_proba = tree.predict_proba(X_val)\n",
    "pos_probs = y_proba[:, 1]\n",
    "precision, recall, _ = precision_recall_curve(y_val, pos_probs)\n",
    "\n",
    "print(f'PR-AUC-Score: {auc(recall, precision)}')\n",
    "disp = plot_precision_recall_curve(tree, X_val, y_val)"
   ]
  },
  {
   "cell_type": "markdown",
   "metadata": {},
   "source": [
    "Nearly as good as the random forest. The recall is better, but the curve score is lower. Since the Decision tree is a lot more cost effective, it might be the best algorithm at this point."
   ]
  },
  {
   "cell_type": "code",
   "execution_count": 65,
   "metadata": {},
   "outputs": [
    {
     "name": "stdout",
     "output_type": "stream",
     "text": [
      "[[13104  7850]\n",
      " [14347 15019]]\n",
      "---------------------------------------------------------\n",
      "              precision    recall  f1-score   support\n",
      "\n",
      "           0       0.48      0.63      0.54     20954\n",
      "           1       0.66      0.51      0.58     29366\n",
      "\n",
      "    accuracy                           0.56     50320\n",
      "   macro avg       0.57      0.57      0.56     50320\n",
      "weighted avg       0.58      0.56      0.56     50320\n",
      "\n",
      "---------------------------------------------------------\n",
      "Recall score: 0.5114418034461622\n",
      "---------------------------------------------------------\n",
      "Cross validation scores: [0.71321526 0.70776567 0.69346049 0.69346049 0.71229145 0.70616275\n",
      " 0.6969697  0.72318693 0.70684372 0.69833163]\n",
      "PR-AUC-Score: 0.6571925210798779\n"
     ]
    },
    {
     "data": {
      "image/png": "[encoded data removed]",
      "text/plain": [
       "<Figure size 432x288 with 1 Axes>"
      ]
     },
     "metadata": {
      "needs_background": "light"
     },
     "output_type": "display_data"
    }
   ],
   "source": [
    "lr.fit(X_train, y_train)\n",
    "\n",
    "# Predict the target value\n",
    "y_pred_lr_val = lr.predict(X_val)\n",
    "\n",
    "# Print the confusion matrix and classification report\n",
    "print(confusion_matrix(y_val, y_pred_lr_val))\n",
    "print('---------------------------------------------------------')\n",
    "print(classification_report(y_val, y_pred_lr_val))\n",
    "print('---------------------------------------------------------')\n",
    "print(f'Recall score: {recall_score(y_val, y_pred_lr_val)}')\n",
    "print('---------------------------------------------------------')\n",
    "print(f'Cross validation scores: {cross_val_score(lr, X_val, y_val, cv=10, scoring=scorer)}')\n",
    "\n",
    "y_proba = lr.predict_proba(X_val)\n",
    "pos_probs = y_proba[:, 1]\n",
    "precision, recall, _ = precision_recall_curve(y_val, pos_probs)\n",
    "\n",
    "print(f'PR-AUC-Score: {auc(recall, precision)}')\n",
    "disp = plot_precision_recall_curve(lr, X_val, y_val)"
   ]
  },
  {
   "cell_type": "markdown",
   "metadata": {},
   "source": [
    "A Recall score of 0.51 is only slightly better then the KNN. The Curve score is a lot better at 0.65. But the moel as a whole is still unusable in comparison to the random forest and decision tree."
   ]
  },
  {
   "cell_type": "code",
   "execution_count": null,
   "metadata": {},
   "outputs": [],
   "source": []
  }
 ],
 "metadata": {
  "kernelspec": {
   "display_name": "Python [conda env:nf] *",
   "language": "python",
   "name": "conda-env-nf-py"
  },
  "language_info": {
   "codemirror_mode": {
    "name": "ipython",
    "version": 3
   },
   "file_extension": ".py",
   "mimetype": "text/x-python",
   "name": "python",
   "nbconvert_exporter": "python",
   "pygments_lexer": "ipython3",
   "version": "3.6.10"
  }
 },
 "nbformat": 4,
 "nbformat_minor": 4
}
