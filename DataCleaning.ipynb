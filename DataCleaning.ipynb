{
 "cells": [
  {
   "cell_type": "markdown",
   "metadata": {},
   "source": [
    "# Kickstarter Project Dataset\n",
    "\n",
    "Sven XXX & Christoph Blickle - neueFische GmbH Camp Cologne 2020\n",
    "\n",
    "[Wikipedia Article says](https://en.wikipedia.org/wiki/Kickstarter):<br>\n",
    "\"Kickstarter is an American public benefit corporation based in Brooklyn, New York, that maintains a global crowdfunding platform focused on creativity.<br>\n",
    "The company's stated mission is to \"help bring creative projects to life\".\n",
    "As of December 2019, Kickstarter has received more than 4.6 billion dollars in pledges from 17.2 million backers to fund 445,000 projects, such as films, music, stage shows, comics, journalism, video games, technology, publishing, and food-related projects.\n",
    "People who back Kickstarter projects are offered tangible rewards or experiences in exchange for their pledges.\n",
    "This model traces its roots to subscription model of arts patronage, where artists would go directly to their audiences to fund their work.\"\n",
    "<br>\n",
    "## Goal of this notebook\n",
    "In this Notebook we will take a look at a Kickstarter Project Dataset (\\*This is a strongly modified version of a widely used dataset, which was used for practice in a Data Science Course\\*). It contains a variety of parameters and possible factors, which influence the outcome of a Project. <br>\n",
    "\n",
    "What we need to do:\n",
    "\n",
    "- [ ] Import the data, which is split into 56 individual csv-files\n",
    "- [ ] Clean the data\n",
    "- [ ] Save and export\n",
    "- [ ] Exploratory Data Analysis\n",
    "- [ ] Try at least 3 different machine learning algorithms\n",
    "- [ ] Give recommendations base upon findings"
   ]
  },
  {
   "cell_type": "markdown",
   "metadata": {},
   "source": [
    "### Data Import"
   ]
  },
  {
   "cell_type": "code",
   "execution_count": 42,
   "metadata": {},
   "outputs": [],
   "source": [
    "# Import modules\n",
    "import pandas as pd\n",
    "import numpy as np"
   ]
  },
  {
   "cell_type": "code",
   "execution_count": 3,
   "metadata": {},
   "outputs": [],
   "source": [
    "# Import the data and combine into one Dataframe\n",
    "li = [] # create empty list\n",
    "for i in range(0,56): # 56 individual files\n",
    "    li.append(pd.read_csv(f'data/Kickstarter0{str(i).zfill(2)}.csv')) # Datasetname = 'Kickstarter000.csv'\n",
    "df = pd.concat(li, axis=0, ignore_index = True) # Put them all together into one dataframe"
   ]
  },
  {
   "cell_type": "markdown",
   "metadata": {},
   "source": [
    "***\n",
    "- [x] Import the data, which is split into 56 individual csv-files\n",
    "- [ ] Clean the data\n",
    "- [ ] Save and export\n",
    "- [ ] Exploratory Data Analysis\n",
    "- [ ] Try at least 3 different machine learning algorithms\n",
    "- [ ] Give recommendations base upon findings\n",
    "***"
   ]
  },
  {
   "cell_type": "markdown",
   "metadata": {},
   "source": [
    "### Data Cleaning"
   ]
  },
  {
   "cell_type": "code",
   "execution_count": 4,
   "metadata": {},
   "outputs": [
    {
     "name": "stdout",
     "output_type": "stream",
     "text": [
      "<class 'pandas.core.frame.DataFrame'>\n",
      "RangeIndex: 209222 entries, 0 to 209221\n",
      "Data columns (total 37 columns):\n",
      "backers_count               209222 non-null int64\n",
      "blurb                       209214 non-null object\n",
      "category                    209222 non-null object\n",
      "converted_pledged_amount    209222 non-null int64\n",
      "country                     209222 non-null object\n",
      "created_at                  209222 non-null int64\n",
      "creator                     209222 non-null object\n",
      "currency                    209222 non-null object\n",
      "currency_symbol             209222 non-null object\n",
      "currency_trailing_code      209222 non-null bool\n",
      "current_currency            209222 non-null object\n",
      "deadline                    209222 non-null int64\n",
      "disable_communication       209222 non-null bool\n",
      "friends                     300 non-null object\n",
      "fx_rate                     209222 non-null float64\n",
      "goal                        209222 non-null float64\n",
      "id                          209222 non-null int64\n",
      "is_backing                  300 non-null object\n",
      "is_starrable                209222 non-null bool\n",
      "is_starred                  300 non-null object\n",
      "launched_at                 209222 non-null int64\n",
      "location                    208996 non-null object\n",
      "name                        209222 non-null object\n",
      "permissions                 300 non-null object\n",
      "photo                       209222 non-null object\n",
      "pledged                     209222 non-null float64\n",
      "profile                     209222 non-null object\n",
      "slug                        209222 non-null object\n",
      "source_url                  209222 non-null object\n",
      "spotlight                   209222 non-null bool\n",
      "staff_pick                  209222 non-null bool\n",
      "state                       209222 non-null object\n",
      "state_changed_at            209222 non-null int64\n",
      "static_usd_rate             209222 non-null float64\n",
      "urls                        209222 non-null object\n",
      "usd_pledged                 209222 non-null float64\n",
      "usd_type                    208742 non-null object\n",
      "dtypes: bool(5), float64(5), int64(7), object(20)\n",
      "memory usage: 52.1+ MB\n"
     ]
    }
   ],
   "source": [
    "# Overview of the dataframe\n",
    "df.info()"
   ]
  },
  {
   "cell_type": "markdown",
   "metadata": {},
   "source": [
    "*** \n",
    "This is quite a big dataset with 20922 rows and 37 columns. We can already see that some columns are missing a lot of data. <br>\n",
    "The next step is to remove unneeded or unusable features. \n",
    "\n",
    "**Features to be dropped:**\n",
    "\n",
    "- 'permissions', 'is_backing', 'is_starred', 'friends':   \n",
    "    -> only 300 values and most of them are NaNs \n",
    "    \n",
    "- 'slug', 'source_url', 'url':  \n",
    "    -> contained information can also be found in 'category' and 'name'\n",
    "    \n",
    "- 'creator', 'id', 'profile':  \n",
    "    -> information about the creator is useless for us \n",
    "    \n",
    "- 'currency_symbol', 'currency_trailing_code', 'current_currency', 'usd_type', 'static_usd_rate':   \n",
    "    -> redundant information about used currencies and rates. We will only use the fx rate to convert the goal into usd \n",
    "    \n",
    "- 'disable_communication', 'is_starrable', 'photo', 'location', 'pledged', 'spotlight':  \n",
    "    -> redundant information \n",
    "    \n",
    "- 'state_changed_at': <br>\n",
    "    -> same as deadline\n",
    "***"
   ]
  },
  {
   "cell_type": "code",
   "execution_count": 5,
   "metadata": {},
   "outputs": [],
   "source": [
    "# Drop features\n",
    "df.drop(['permissions', 'slug', 'source_url', 'urls', 'creator', 'currency_symbol', 'currency_trailing_code', \n",
    "        'current_currency', 'usd_pledged', 'state_changed_at'\n",
    "        'disable_communication', 'id', 'is_starrable', 'photo', 'location', 'pledged',\n",
    "        'profile', 'spotlight', 'static_usd_rate', 'usd_type', \n",
    "        'is_backing', 'is_starred', 'friends'], axis=1, inplace=True)"
   ]
  },
  {
   "cell_type": "markdown",
   "metadata": {},
   "source": [
    "***\n",
    "Let's look at the state of the projects.\n",
    "***"
   ]
  },
  {
   "cell_type": "code",
   "execution_count": 6,
   "metadata": {},
   "outputs": [
    {
     "name": "stdout",
     "output_type": "stream",
     "text": [
      "['successful' 'failed' 'live' 'canceled' 'suspended']\n"
     ]
    }
   ],
   "source": [
    "print(df.state.unique())"
   ]
  },
  {
   "cell_type": "markdown",
   "metadata": {},
   "source": [
    "***\n",
    "Only successful or failed states are interesting to us for this specific project. We decided to include the 'canceled' state as fail.\n",
    "***"
   ]
  },
  {
   "cell_type": "code",
   "execution_count": 7,
   "metadata": {},
   "outputs": [],
   "source": [
    "# Drop all projects that are anything but successful or failed/canceled\n",
    "df = df.query(\"state == 'successful' or state == 'failed' or state == 'canceled'\")\n",
    "df.reset_index(inplace=True, drop=True) # reset the index"
   ]
  },
  {
   "cell_type": "code",
   "execution_count": 8,
   "metadata": {},
   "outputs": [
    {
     "name": "stdout",
     "output_type": "stream",
     "text": [
      "<class 'pandas.core.frame.DataFrame'>\n",
      "RangeIndex: 201288 entries, 0 to 201287\n",
      "Data columns (total 15 columns):\n",
      "backers_count               201288 non-null int64\n",
      "blurb                       201280 non-null object\n",
      "category                    201288 non-null object\n",
      "converted_pledged_amount    201288 non-null int64\n",
      "country                     201288 non-null object\n",
      "created_at                  201288 non-null int64\n",
      "currency                    201288 non-null object\n",
      "deadline                    201288 non-null int64\n",
      "fx_rate                     201288 non-null float64\n",
      "goal                        201288 non-null float64\n",
      "launched_at                 201288 non-null int64\n",
      "name                        201288 non-null object\n",
      "staff_pick                  201288 non-null bool\n",
      "state                       201288 non-null object\n",
      "state_changed_at            201288 non-null int64\n",
      "dtypes: bool(1), float64(2), int64(6), object(6)\n",
      "memory usage: 21.7+ MB\n"
     ]
    }
   ],
   "source": [
    "# Let's look at the Dataset again\n",
    "df.info()"
   ]
  },
  {
   "cell_type": "markdown",
   "metadata": {},
   "source": [
    "***\n",
    "We can look for remaining NaNs in the dataset.\n",
    "***"
   ]
  },
  {
   "cell_type": "code",
   "execution_count": 17,
   "metadata": {},
   "outputs": [
    {
     "name": "stdout",
     "output_type": "stream",
     "text": [
      "There are 8 NaNs left in this dataset\n"
     ]
    }
   ],
   "source": [
    "# Find NaNs \n",
    "print(f'There are {df.isnull().sum().sum()} NaNs left in this dataset')"
   ]
  },
  {
   "cell_type": "code",
   "execution_count": 19,
   "metadata": {},
   "outputs": [],
   "source": [
    "# We can safely drop these and proceed\n",
    "df.dropna(inplace=True)"
   ]
  },
  {
   "cell_type": "markdown",
   "metadata": {},
   "source": [
    "### Data extraction and some feature engineering\n",
    "We have now removed all unnecessary data.\n",
    "Next up let's look at the format of some of the data and improve it for interpretation. <br>\n",
    "We will start by extracting the category."
   ]
  },
  {
   "cell_type": "code",
   "execution_count": 32,
   "metadata": {},
   "outputs": [
    {
     "name": "stdout",
     "output_type": "stream",
     "text": [
      "{\"id\":43,\"name\":\"Rock\",\"slug\":\"music/rock\",\"position\":17,\"parent_id\":14,\"color\":10878931,\"urls\":{\"web\":{\"discover\":\"http://www.kickstarter.com/discover/categories/music/rock\"}}}\n",
      "<class 'str'>\n"
     ]
    }
   ],
   "source": [
    "# Let's look at the category variable\n",
    "print(df.category[0])\n",
    "\n",
    "# Looks like a dictionary, but wait! It's actually a string\n",
    "print(type(df.category[0]))"
   ]
  },
  {
   "cell_type": "markdown",
   "metadata": {},
   "source": [
    "***\n",
    "If we look at the dictionary we can find our category, in this case 'music', in the slug key. Before we can access and split the string we need to create an actual dictionary\n",
    "***"
   ]
  },
  {
   "cell_type": "code",
   "execution_count": 20,
   "metadata": {},
   "outputs": [],
   "source": [
    "# We can use the eval() function to extract the whole dict from the string\n",
    "df.category = df.category.map(lambda x: eval(x))\n",
    "\n",
    "# Then we split the 'slug' string and take only the first entry, which will be the main category the porject was posted under\n",
    "df.category = df.category.map(lambda x: x['slug'].partition('/')[0])"
   ]
  },
  {
   "cell_type": "code",
   "execution_count": 23,
   "metadata": {},
   "outputs": [
    {
     "name": "stdout",
     "output_type": "stream",
     "text": [
      "['music' 'art' 'photography' 'fashion' 'technology' 'publishing' 'games'\n",
      " 'food' 'theater' 'dance' 'crafts' 'journalism' 'film & video' 'comics'\n",
      " 'design']\n"
     ]
    }
   ],
   "source": [
    "# Let's see if it worked\n",
    "print(df.category.unique())"
   ]
  },
  {
   "cell_type": "markdown",
   "metadata": {},
   "source": [
    "***\n",
    "Let's look at the timeformat.\n",
    "***"
   ]
  },
  {
   "cell_type": "code",
   "execution_count": 26,
   "metadata": {},
   "outputs": [
    {
     "name": "stdout",
     "output_type": "stream",
     "text": [
      "1391899046\n",
      "1387659690\n",
      "1388011046\n"
     ]
    }
   ],
   "source": [
    "# Print time related variables\n",
    "print(df.deadline[0])\n",
    "print(df.created_at[0])\n",
    "print(df.launched_at[0])"
   ]
  },
  {
   "cell_type": "markdown",
   "metadata": {},
   "source": [
    "***\n",
    "Not very readable. Let's change that.\n",
    "***"
   ]
  },
  {
   "cell_type": "code",
   "execution_count": 27,
   "metadata": {},
   "outputs": [],
   "source": [
    "# We use the datetime to convert the timestamps into actual dates\n",
    "# Deadline\n",
    "df.deadline = pd.to_datetime(df.deadline, unit='s')\n",
    "df.deadline = df.deadline.dt.date\n",
    "\n",
    "# Created at\n",
    "df.created_at = pd.to_datetime(df.created_at, unit='s')\n",
    "df.created_at = df.created_at.dt.date\n",
    "\n",
    "# Launched at \n",
    "df.launched_at = pd.to_datetime(df.launched_at, unit='s')\n",
    "df.launched_at = df.launched_at.dt.date"
   ]
  },
  {
   "cell_type": "markdown",
   "metadata": {},
   "source": [
    "***\n",
    "While we're on it, we can quickly create some new variables, that give us clear information about how long a project ran for and when it was actually launched after it's creation on the site\n",
    "***"
   ]
  },
  {
   "cell_type": "code",
   "execution_count": 28,
   "metadata": {},
   "outputs": [],
   "source": [
    "#create new features fot total runtime and forerun time\n",
    "df['days_until_launch'] = df.launched_at - df.created_at\n",
    "df['days_total'] = df.deadline - df.launched_at "
   ]
  },
  {
   "cell_type": "code",
   "execution_count": 29,
   "metadata": {},
   "outputs": [],
   "source": [
    "#transform to integer\n",
    "df['days_total'] = df['days_total'].dt.days.astype('int16')\n",
    "df['days_until_launch'] = df['days_until_launch'].dt.days.astype('int16')"
   ]
  },
  {
   "cell_type": "markdown",
   "metadata": {},
   "source": [
    "***\n",
    "We still need to convert the goal into usd.\n",
    "***"
   ]
  },
  {
   "cell_type": "code",
   "execution_count": 34,
   "metadata": {},
   "outputs": [],
   "source": [
    "# goal is given in the native currency, so we have to multiply it with the conversion rate for usd\n",
    "df['converted_goal_amount'] = df.goal * df.fx_rate\n",
    "df.converted_goal_amount = df.converted_goal_amount.astype('int64')"
   ]
  },
  {
   "cell_type": "markdown",
   "metadata": {},
   "source": [
    "***\n",
    "Then we also still need to change the 'state' variables into 1s and 0s. While we're at it we will also change the 'staff_pick' into 1s and 0s.\n",
    "***"
   ]
  },
  {
   "cell_type": "code",
   "execution_count": 35,
   "metadata": {},
   "outputs": [],
   "source": [
    "# Convert state to 0s and 1s\n",
    "df.replace(to_replace=['canceled', 'failed', 'successful'], value=[0, 0, 1], inplace=True)\n",
    "\n",
    "# Staff_pick is already given as True and False so we simply have to make them integers\n",
    "df.staff_pick = df.staff_pick.astype('int16')"
   ]
  },
  {
   "cell_type": "markdown",
   "metadata": {},
   "source": [
    "***\n",
    "We don't want to work with plane text at this point in time. So we will change the 'blurb' and 'name' into length variables. (The blurb is the quick description of the project. Like a covertext for a book)\n",
    "***"
   ]
  },
  {
   "cell_type": "code",
   "execution_count": 36,
   "metadata": {},
   "outputs": [],
   "source": [
    "# Create new features blurb_length and name_length\n",
    "df['blurb_length'] = df.blurb.map(lambda x: len(x))\n",
    "df['name_length'] = df.name.map(lambda x: len(x))\n",
    "df.drop(['blurb', 'name', 'goal', 'fx_rate'], axis=1, inplace=True)"
   ]
  },
  {
   "cell_type": "markdown",
   "metadata": {},
   "source": [
    "***\n",
    "We're finished we the cleaning and extraction, as well as a little bit of feature engineering. Let's take one last look at the set and then export it.\n",
    "\n",
    "- [x] Import the data, which is split into 56 individual csv-files\n",
    "- [x] Clean the data\n",
    "- [ ] Save and export\n",
    "- [ ] Exploratory Data Analysis\n",
    "- [ ] Try at least 3 different machine learning algorithms\n",
    "- [ ] Give recommendations base upon findings\n",
    "***"
   ]
  },
  {
   "cell_type": "code",
   "execution_count": 37,
   "metadata": {},
   "outputs": [
    {
     "data": {
      "text/html": [
       "<div>\n",
       "<style scoped>\n",
       "    .dataframe tbody tr th:only-of-type {\n",
       "        vertical-align: middle;\n",
       "    }\n",
       "\n",
       "    .dataframe tbody tr th {\n",
       "        vertical-align: top;\n",
       "    }\n",
       "\n",
       "    .dataframe thead th {\n",
       "        text-align: right;\n",
       "    }\n",
       "</style>\n",
       "<table border=\"1\" class=\"dataframe\">\n",
       "  <thead>\n",
       "    <tr style=\"text-align: right;\">\n",
       "      <th></th>\n",
       "      <th>backers_count</th>\n",
       "      <th>category</th>\n",
       "      <th>converted_pledged_amount</th>\n",
       "      <th>country</th>\n",
       "      <th>created_at</th>\n",
       "      <th>currency</th>\n",
       "      <th>deadline</th>\n",
       "      <th>launched_at</th>\n",
       "      <th>staff_pick</th>\n",
       "      <th>state</th>\n",
       "      <th>state_changed_at</th>\n",
       "      <th>days_until_launch</th>\n",
       "      <th>days_total</th>\n",
       "      <th>converted_goal_amount</th>\n",
       "      <th>blurb_length</th>\n",
       "      <th>name_length</th>\n",
       "    </tr>\n",
       "  </thead>\n",
       "  <tbody>\n",
       "    <tr>\n",
       "      <th>0</th>\n",
       "      <td>21</td>\n",
       "      <td>music</td>\n",
       "      <td>802</td>\n",
       "      <td>US</td>\n",
       "      <td>2013-12-21</td>\n",
       "      <td>USD</td>\n",
       "      <td>2014-02-08</td>\n",
       "      <td>2013-12-25</td>\n",
       "      <td>0</td>\n",
       "      <td>1</td>\n",
       "      <td>1391899046</td>\n",
       "      <td>4</td>\n",
       "      <td>45</td>\n",
       "      <td>200</td>\n",
       "      <td>134</td>\n",
       "      <td>21</td>\n",
       "    </tr>\n",
       "    <tr>\n",
       "      <th>1</th>\n",
       "      <td>97</td>\n",
       "      <td>art</td>\n",
       "      <td>2259</td>\n",
       "      <td>US</td>\n",
       "      <td>2019-02-08</td>\n",
       "      <td>USD</td>\n",
       "      <td>2019-03-05</td>\n",
       "      <td>2019-02-13</td>\n",
       "      <td>0</td>\n",
       "      <td>1</td>\n",
       "      <td>1551801611</td>\n",
       "      <td>5</td>\n",
       "      <td>20</td>\n",
       "      <td>400</td>\n",
       "      <td>55</td>\n",
       "      <td>31</td>\n",
       "    </tr>\n",
       "    <tr>\n",
       "      <th>2</th>\n",
       "      <td>88</td>\n",
       "      <td>photography</td>\n",
       "      <td>29638</td>\n",
       "      <td>US</td>\n",
       "      <td>2016-10-23</td>\n",
       "      <td>USD</td>\n",
       "      <td>2016-12-01</td>\n",
       "      <td>2016-11-01</td>\n",
       "      <td>1</td>\n",
       "      <td>1</td>\n",
       "      <td>1480607932</td>\n",
       "      <td>9</td>\n",
       "      <td>30</td>\n",
       "      <td>27224</td>\n",
       "      <td>135</td>\n",
       "      <td>60</td>\n",
       "    </tr>\n",
       "    <tr>\n",
       "      <th>3</th>\n",
       "      <td>193</td>\n",
       "      <td>fashion</td>\n",
       "      <td>49158</td>\n",
       "      <td>IT</td>\n",
       "      <td>2018-10-24</td>\n",
       "      <td>EUR</td>\n",
       "      <td>2018-12-08</td>\n",
       "      <td>2018-10-27</td>\n",
       "      <td>0</td>\n",
       "      <td>1</td>\n",
       "      <td>1544309940</td>\n",
       "      <td>3</td>\n",
       "      <td>42</td>\n",
       "      <td>45137</td>\n",
       "      <td>75</td>\n",
       "      <td>25</td>\n",
       "    </tr>\n",
       "    <tr>\n",
       "      <th>4</th>\n",
       "      <td>20</td>\n",
       "      <td>technology</td>\n",
       "      <td>549</td>\n",
       "      <td>US</td>\n",
       "      <td>2015-03-07</td>\n",
       "      <td>USD</td>\n",
       "      <td>2015-04-08</td>\n",
       "      <td>2015-03-09</td>\n",
       "      <td>0</td>\n",
       "      <td>0</td>\n",
       "      <td>1428511019</td>\n",
       "      <td>2</td>\n",
       "      <td>30</td>\n",
       "      <td>1000</td>\n",
       "      <td>133</td>\n",
       "      <td>30</td>\n",
       "    </tr>\n",
       "  </tbody>\n",
       "</table>\n",
       "</div>"
      ],
      "text/plain": [
       "   backers_count     category  converted_pledged_amount country  created_at  \\\n",
       "0             21        music                       802      US  2013-12-21   \n",
       "1             97          art                      2259      US  2019-02-08   \n",
       "2             88  photography                     29638      US  2016-10-23   \n",
       "3            193      fashion                     49158      IT  2018-10-24   \n",
       "4             20   technology                       549      US  2015-03-07   \n",
       "\n",
       "  currency    deadline launched_at  staff_pick  state  state_changed_at  \\\n",
       "0      USD  2014-02-08  2013-12-25           0      1        1391899046   \n",
       "1      USD  2019-03-05  2019-02-13           0      1        1551801611   \n",
       "2      USD  2016-12-01  2016-11-01           1      1        1480607932   \n",
       "3      EUR  2018-12-08  2018-10-27           0      1        1544309940   \n",
       "4      USD  2015-04-08  2015-03-09           0      0        1428511019   \n",
       "\n",
       "   days_until_launch  days_total  converted_goal_amount  blurb_length  \\\n",
       "0                  4          45                    200           134   \n",
       "1                  5          20                    400            55   \n",
       "2                  9          30                  27224           135   \n",
       "3                  3          42                  45137            75   \n",
       "4                  2          30                   1000           133   \n",
       "\n",
       "   name_length  \n",
       "0           21  \n",
       "1           31  \n",
       "2           60  \n",
       "3           25  \n",
       "4           30  "
      ]
     },
     "execution_count": 37,
     "metadata": {},
     "output_type": "execute_result"
    }
   ],
   "source": [
    "df.head()"
   ]
  },
  {
   "cell_type": "markdown",
   "metadata": {},
   "source": [
    "## Save and export the  data\n",
    "\n",
    "We will export 3 different files. First the whole dataset as one. Then we will split it into a Training and validation set for the machine learning algorithms."
   ]
  },
  {
   "cell_type": "code",
   "execution_count": 38,
   "metadata": {},
   "outputs": [],
   "source": [
    "# Save dataframe as a whole\n",
    "df.to_csv('KickstarterData_full.csv')"
   ]
  },
  {
   "cell_type": "code",
   "execution_count": 39,
   "metadata": {},
   "outputs": [],
   "source": [
    "# Split the dataframe\n",
    "from sklearn.model_selection import train_test_split\n",
    "X = df.drop('state', axis=1)\n",
    "y = df.state\n",
    "X_train, X_test, y_train, y_test = train_test_split(X, y, test_size=0.25, random_state=42, stratify=y) # We chose to stratify here as there is a slight imbalance in the classes"
   ]
  },
  {
   "cell_type": "code",
   "execution_count": 40,
   "metadata": {},
   "outputs": [],
   "source": [
    "# Combine features and target value back to together\n",
    "Trainset = pd.concat([X_train, y_train], axis=1)\n",
    "Trainset = Trainset.reset_index(drop=True)\n",
    "Testset = pd.concat([X_test, y_test], axis=1)\n",
    "Testset = Testset.reset_index(drop=True)"
   ]
  },
  {
   "cell_type": "code",
   "execution_count": 41,
   "metadata": {},
   "outputs": [],
   "source": [
    "# Export datasets\n",
    "Trainset.to_csv('Kickstarter_Train.csv', index=False)\n",
    "Testset.to_csv('Kickstarter_Validation.csv', index=False)"
   ]
  },
  {
   "cell_type": "markdown",
   "metadata": {},
   "source": [
    "***\n",
    "- [x] Import the data, which is split into 56 individual csv-files\n",
    "- [x] Clean the data\n",
    "- [x] Save and export\n",
    "- [ ] Exploratory Data Analysis\n",
    "- [ ] Try at least 3 different machine learning algorithms\n",
    "- [ ] Give recommendations base upon findings\n",
    "***"
   ]
  }
 ],
 "metadata": {
  "kernelspec": {
   "display_name": "Python 3",
   "language": "python",
   "name": "python3"
  },
  "language_info": {
   "codemirror_mode": {
    "name": "ipython",
    "version": 3
   },
   "file_extension": ".py",
   "mimetype": "text/x-python",
   "name": "python",
   "nbconvert_exporter": "python",
   "pygments_lexer": "ipython3",
   "version": "3.8.5"
  }
 },
 "nbformat": 4,
 "nbformat_minor": 4
}
