{
 "cells": [
  {
   "cell_type": "code",
   "execution_count": 1,
   "metadata": {},
   "outputs": [],
   "source": [
    "import pandas as pd\n",
    "import numpy as np"
   ]
  },
  {
   "cell_type": "code",
   "execution_count": 2,
   "metadata": {},
   "outputs": [],
   "source": [
    "#df = pd.read_csv('data/Kickstarter000.csv')\n",
    "li = []\n",
    "for i in range(0,56):\n",
    "    li.append(pd.read_csv(f'data/Kickstarter0{str(i).zfill(2)}.csv'))\n",
    "df = pd.concat(li, axis=0, ignore_index = True)"
   ]
  },
  {
   "cell_type": "code",
   "execution_count": 3,
   "metadata": {},
   "outputs": [
    {
     "name": "stdout",
     "output_type": "stream",
     "text": [
      "<class 'pandas.core.frame.DataFrame'>\n",
      "RangeIndex: 209222 entries, 0 to 209221\n",
      "Data columns (total 37 columns):\n",
      "backers_count               209222 non-null int64\n",
      "blurb                       209214 non-null object\n",
      "category                    209222 non-null object\n",
      "converted_pledged_amount    209222 non-null int64\n",
      "country                     209222 non-null object\n",
      "created_at                  209222 non-null int64\n",
      "creator                     209222 non-null object\n",
      "currency                    209222 non-null object\n",
      "currency_symbol             209222 non-null object\n",
      "currency_trailing_code      209222 non-null bool\n",
      "current_currency            209222 non-null object\n",
      "deadline                    209222 non-null int64\n",
      "disable_communication       209222 non-null bool\n",
      "friends                     300 non-null object\n",
      "fx_rate                     209222 non-null float64\n",
      "goal                        209222 non-null float64\n",
      "id                          209222 non-null int64\n",
      "is_backing                  300 non-null object\n",
      "is_starrable                209222 non-null bool\n",
      "is_starred                  300 non-null object\n",
      "launched_at                 209222 non-null int64\n",
      "location                    208996 non-null object\n",
      "name                        209222 non-null object\n",
      "permissions                 300 non-null object\n",
      "photo                       209222 non-null object\n",
      "pledged                     209222 non-null float64\n",
      "profile                     209222 non-null object\n",
      "slug                        209222 non-null object\n",
      "source_url                  209222 non-null object\n",
      "spotlight                   209222 non-null bool\n",
      "staff_pick                  209222 non-null bool\n",
      "state                       209222 non-null object\n",
      "state_changed_at            209222 non-null int64\n",
      "static_usd_rate             209222 non-null float64\n",
      "urls                        209222 non-null object\n",
      "usd_pledged                 209222 non-null float64\n",
      "usd_type                    208742 non-null object\n",
      "dtypes: bool(5), float64(5), int64(7), object(20)\n",
      "memory usage: 52.1+ MB\n"
     ]
    }
   ],
   "source": [
    "df.info()"
   ]
  },
  {
   "cell_type": "markdown",
   "metadata": {},
   "source": [
    "### Drops:\n",
    "    - Permissions, is_backing, is_starred, friends -> only 300 not nan values\n",
    "    - slug, source_url, url -> same as category and name\n",
    "    - creator\n",
    "    - currency_symbol, currency_trailing_code, current_currency\n",
    "    - disable_communication\n",
    "    - fx_rate\n",
    "    - id\n",
    "    - is_starrable\n",
    "    - photo\n",
    "    - location\n",
    "    - pledged\n",
    "    - profile\n",
    "    - spotlight\n",
    "    - static_usd_rate\n",
    "    - usd_type"
   ]
  },
  {
   "cell_type": "code",
   "execution_count": 4,
   "metadata": {},
   "outputs": [],
   "source": [
    "df.drop(['permissions', 'slug', 'source_url', 'urls', 'creator', 'currency_symbol', 'currency_trailing_code', \n",
    "        'current_currency',\n",
    "        'disable_communication', 'fx_rate', 'id', 'is_starrable', 'photo', 'location', 'pledged',\n",
    "        'profile', 'spotlight', 'static_usd_rate', 'usd_type', \n",
    "        'is_backing', 'is_starred', 'friends'], axis=1, inplace=True)\n",
    "df = df.query(\"state == 'successful' or state == 'failed'\")\n",
    "df.reset_index(inplace=True, drop=True)"
   ]
  },
  {
   "cell_type": "code",
   "execution_count": 5,
   "metadata": {},
   "outputs": [
    {
     "name": "stdout",
     "output_type": "stream",
     "text": [
      "<class 'pandas.core.frame.DataFrame'>\n",
      "RangeIndex: 192664 entries, 0 to 192663\n",
      "Data columns (total 15 columns):\n",
      "backers_count               192664 non-null int64\n",
      "blurb                       192662 non-null object\n",
      "category                    192664 non-null object\n",
      "converted_pledged_amount    192664 non-null int64\n",
      "country                     192664 non-null object\n",
      "created_at                  192664 non-null int64\n",
      "currency                    192664 non-null object\n",
      "deadline                    192664 non-null int64\n",
      "goal                        192664 non-null float64\n",
      "launched_at                 192664 non-null int64\n",
      "name                        192664 non-null object\n",
      "staff_pick                  192664 non-null bool\n",
      "state                       192664 non-null object\n",
      "state_changed_at            192664 non-null int64\n",
      "usd_pledged                 192664 non-null float64\n",
      "dtypes: bool(1), float64(2), int64(6), object(6)\n",
      "memory usage: 20.8+ MB\n"
     ]
    }
   ],
   "source": [
    "df.info()"
   ]
  },
  {
   "cell_type": "code",
   "execution_count": 6,
   "metadata": {},
   "outputs": [],
   "source": [
    "df.category = df.category.map(lambda x: eval(x))\n",
    "df.category = df.category.map(lambda x: x['slug'].partition('/')[0])"
   ]
  },
  {
   "cell_type": "code",
   "execution_count": 7,
   "metadata": {},
   "outputs": [],
   "source": [
    "#format deadline, created at, launched at, stated_changed_at\n",
    "\n",
    "#deadline\n",
    "df.deadline = pd.to_datetime(df.deadline, unit='s')\n",
    "df.deadline = df.deadline.dt.date\n",
    "\n",
    "#created at\n",
    "df.created_at = pd.to_datetime(df.created_at, unit='s')\n",
    "df.created_at = df.created_at.dt.date\n",
    "\n",
    "#launched at \n",
    "df.launched_at = pd.to_datetime(df.launched_at, unit='s')\n",
    "df.launched_at = df.launched_at.dt.date\n",
    "\n",
    "#state_changed_at\n",
    "df.state_changed_at = pd.to_datetime(df.state_changed_at, unit='s')\n",
    "df.state_changed_at = df.state_changed_at.dt.date"
   ]
  },
  {
   "cell_type": "code",
   "execution_count": 8,
   "metadata": {},
   "outputs": [],
   "source": [
    "#create new columns (days_total, days_until_success, days_until_launch) \n",
    "df['days_until_launch'] = df.apply(lambda row: row.launched_at - row.created_at, axis = 1)\n",
    "df['days_until_success'] = df.apply(lambda row: row.state_changed_at - row.launched_at, axis = 1) \n",
    "df['days_total'] = df.apply(lambda row: row.deadline - row.launched_at, axis = 1) \n",
    "df['days_diff_total_success'] = df.apply(lambda row: row.days_total - row.days_until_success, axis = 1) "
   ]
  },
  {
   "cell_type": "code",
   "execution_count": 9,
   "metadata": {},
   "outputs": [],
   "source": [
    "#transform dateformat to integer\n",
    "df['days_total'] = df['days_total'].dt.days.astype('int16')\n",
    "df['days_diff_total_success'] = df['days_diff_total_success'].dt.days.astype('int16')\n",
    "df['days_until_launch'] = df['days_until_launch'].dt.days.astype('int16')\n",
    "df['days_until_success'] = df['days_until_success'].dt.days.astype('int16')\n",
    "\n",
    "#Check for negative values of days_diff_total_success\n",
    "#df.query(\"days_diff_total_success < 0\").days_diff_total_success.describe()"
   ]
  },
  {
   "cell_type": "code",
   "execution_count": 10,
   "metadata": {},
   "outputs": [],
   "source": [
    "df.to_csv('KickstarterData_full.csv')"
   ]
  },
  {
   "cell_type": "code",
   "execution_count": 11,
   "metadata": {},
   "outputs": [],
   "source": [
    "from sklearn.model_selection import train_test_split\n",
    "X = df.drop('state', axis=1)\n",
    "y = df.state\n",
    "X_train, X_test, y_train, y_test = train_test_split(X, y, test_size=0.25, random_state=42)"
   ]
  },
  {
   "cell_type": "code",
   "execution_count": 12,
   "metadata": {},
   "outputs": [],
   "source": [
    "Trainset = pd.concat([X_train, y_train], axis=1)\n",
    "Trainset = Trainset.reset_index(drop=True)\n",
    "Testset = pd.concat([X_test, y_test], axis=1)\n",
    "Testset = Testset.reset_index(drop=True)"
   ]
  },
  {
   "cell_type": "code",
   "execution_count": 13,
   "metadata": {},
   "outputs": [],
   "source": [
    "Trainset.to_csv('Kickstarter_Train.csv')\n",
    "Testset.to_csv('Kickstarter_Test.csv')"
   ]
  }
 ],
 "metadata": {
  "kernelspec": {
   "display_name": "Python 3",
   "language": "python",
   "name": "python3"
  },
  "language_info": {
   "codemirror_mode": {
    "name": "ipython",
    "version": 3
   },
   "file_extension": ".py",
   "mimetype": "text/x-python",
   "name": "python",
   "nbconvert_exporter": "python",
   "pygments_lexer": "ipython3",
   "version": "3.6.10"
  }
 },
 "nbformat": 4,
 "nbformat_minor": 4
}
