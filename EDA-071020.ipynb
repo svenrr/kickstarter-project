{
 "cells": [
  {
   "cell_type": "markdown",
   "metadata": {},
   "source": [
    "# Imports"
   ]
  },
  {
   "cell_type": "code",
   "execution_count": 2,
   "metadata": {},
   "outputs": [],
   "source": [
    "import pandas as pd \n",
    "import numpy as np \n",
    "import matplotlib.pyplot as plt \n",
    "import seaborn as sns \n",
    "sns.set()\n",
    "%matplotlib inline"
   ]
  },
  {
   "cell_type": "code",
   "execution_count": 3,
   "metadata": {},
   "outputs": [],
   "source": [
    "df = pd.read_csv(\"Kickstarter_Train.csv\")"
   ]
  },
  {
   "cell_type": "markdown",
   "metadata": {},
   "source": [
    "# Quick Data Overview"
   ]
  },
  {
   "cell_type": "code",
   "execution_count": 4,
   "metadata": {},
   "outputs": [
    {
     "data": {
      "text/html": [
       "<div>\n",
       "<style scoped>\n",
       "    .dataframe tbody tr th:only-of-type {\n",
       "        vertical-align: middle;\n",
       "    }\n",
       "\n",
       "    .dataframe tbody tr th {\n",
       "        vertical-align: top;\n",
       "    }\n",
       "\n",
       "    .dataframe thead th {\n",
       "        text-align: right;\n",
       "    }\n",
       "</style>\n",
       "<table border=\"1\" class=\"dataframe\">\n",
       "  <thead>\n",
       "    <tr style=\"text-align: right;\">\n",
       "      <th></th>\n",
       "      <th>backers_count</th>\n",
       "      <th>category</th>\n",
       "      <th>converted_pledged_amount</th>\n",
       "      <th>country</th>\n",
       "      <th>created_at</th>\n",
       "      <th>currency</th>\n",
       "      <th>deadline</th>\n",
       "      <th>launched_at</th>\n",
       "      <th>staff_pick</th>\n",
       "      <th>state_changed_at</th>\n",
       "      <th>days_until_launch</th>\n",
       "      <th>days_until_success</th>\n",
       "      <th>days_total</th>\n",
       "      <th>days_diff_total_success</th>\n",
       "      <th>converted_goal_amount</th>\n",
       "      <th>blurb_length</th>\n",
       "      <th>name_length</th>\n",
       "      <th>state</th>\n",
       "    </tr>\n",
       "  </thead>\n",
       "  <tbody>\n",
       "    <tr>\n",
       "      <th>0</th>\n",
       "      <td>7</td>\n",
       "      <td>crafts</td>\n",
       "      <td>139</td>\n",
       "      <td>GB</td>\n",
       "      <td>2014-11-24</td>\n",
       "      <td>GBP</td>\n",
       "      <td>2014-12-24</td>\n",
       "      <td>2014-11-24</td>\n",
       "      <td>0</td>\n",
       "      <td>2014-12-24</td>\n",
       "      <td>0</td>\n",
       "      <td>30</td>\n",
       "      <td>30</td>\n",
       "      <td>0</td>\n",
       "      <td>1308</td>\n",
       "      <td>129</td>\n",
       "      <td>46</td>\n",
       "      <td>0</td>\n",
       "    </tr>\n",
       "    <tr>\n",
       "      <th>1</th>\n",
       "      <td>0</td>\n",
       "      <td>journalism</td>\n",
       "      <td>0</td>\n",
       "      <td>CA</td>\n",
       "      <td>2014-12-04</td>\n",
       "      <td>CAD</td>\n",
       "      <td>2015-01-17</td>\n",
       "      <td>2014-12-18</td>\n",
       "      <td>0</td>\n",
       "      <td>2015-01-17</td>\n",
       "      <td>14</td>\n",
       "      <td>30</td>\n",
       "      <td>30</td>\n",
       "      <td>0</td>\n",
       "      <td>751</td>\n",
       "      <td>135</td>\n",
       "      <td>29</td>\n",
       "      <td>0</td>\n",
       "    </tr>\n",
       "    <tr>\n",
       "      <th>2</th>\n",
       "      <td>8</td>\n",
       "      <td>technology</td>\n",
       "      <td>585</td>\n",
       "      <td>US</td>\n",
       "      <td>2015-08-31</td>\n",
       "      <td>USD</td>\n",
       "      <td>2015-11-07</td>\n",
       "      <td>2015-10-07</td>\n",
       "      <td>0</td>\n",
       "      <td>2015-11-07</td>\n",
       "      <td>37</td>\n",
       "      <td>31</td>\n",
       "      <td>31</td>\n",
       "      <td>0</td>\n",
       "      <td>2500</td>\n",
       "      <td>135</td>\n",
       "      <td>30</td>\n",
       "      <td>0</td>\n",
       "    </tr>\n",
       "    <tr>\n",
       "      <th>3</th>\n",
       "      <td>2125</td>\n",
       "      <td>technology</td>\n",
       "      <td>357769</td>\n",
       "      <td>US</td>\n",
       "      <td>2017-02-08</td>\n",
       "      <td>USD</td>\n",
       "      <td>2017-07-27</td>\n",
       "      <td>2017-06-27</td>\n",
       "      <td>0</td>\n",
       "      <td>2017-07-27</td>\n",
       "      <td>139</td>\n",
       "      <td>30</td>\n",
       "      <td>30</td>\n",
       "      <td>0</td>\n",
       "      <td>100000</td>\n",
       "      <td>124</td>\n",
       "      <td>53</td>\n",
       "      <td>1</td>\n",
       "    </tr>\n",
       "    <tr>\n",
       "      <th>4</th>\n",
       "      <td>75</td>\n",
       "      <td>food</td>\n",
       "      <td>3091</td>\n",
       "      <td>US</td>\n",
       "      <td>2017-10-27</td>\n",
       "      <td>USD</td>\n",
       "      <td>2017-11-29</td>\n",
       "      <td>2017-10-29</td>\n",
       "      <td>0</td>\n",
       "      <td>2017-11-29</td>\n",
       "      <td>2</td>\n",
       "      <td>31</td>\n",
       "      <td>31</td>\n",
       "      <td>0</td>\n",
       "      <td>3000</td>\n",
       "      <td>76</td>\n",
       "      <td>40</td>\n",
       "      <td>1</td>\n",
       "    </tr>\n",
       "  </tbody>\n",
       "</table>\n",
       "</div>"
      ],
      "text/plain": [
       "   backers_count    category  converted_pledged_amount country  created_at  \\\n",
       "0              7      crafts                       139      GB  2014-11-24   \n",
       "1              0  journalism                         0      CA  2014-12-04   \n",
       "2              8  technology                       585      US  2015-08-31   \n",
       "3           2125  technology                    357769      US  2017-02-08   \n",
       "4             75        food                      3091      US  2017-10-27   \n",
       "\n",
       "  currency    deadline launched_at  staff_pick state_changed_at  \\\n",
       "0      GBP  2014-12-24  2014-11-24           0       2014-12-24   \n",
       "1      CAD  2015-01-17  2014-12-18           0       2015-01-17   \n",
       "2      USD  2015-11-07  2015-10-07           0       2015-11-07   \n",
       "3      USD  2017-07-27  2017-06-27           0       2017-07-27   \n",
       "4      USD  2017-11-29  2017-10-29           0       2017-11-29   \n",
       "\n",
       "   days_until_launch  days_until_success  days_total  days_diff_total_success  \\\n",
       "0                  0                  30          30                        0   \n",
       "1                 14                  30          30                        0   \n",
       "2                 37                  31          31                        0   \n",
       "3                139                  30          30                        0   \n",
       "4                  2                  31          31                        0   \n",
       "\n",
       "   converted_goal_amount  blurb_length  name_length  state  \n",
       "0                   1308           129           46      0  \n",
       "1                    751           135           29      0  \n",
       "2                   2500           135           30      0  \n",
       "3                 100000           124           53      1  \n",
       "4                   3000            76           40      1  "
      ]
     },
     "execution_count": 4,
     "metadata": {},
     "output_type": "execute_result"
    }
   ],
   "source": [
    "df.head()"
   ]
  },
  {
   "cell_type": "code",
   "execution_count": 5,
   "metadata": {},
   "outputs": [
    {
     "data": {
      "text/html": [
       "<div>\n",
       "<style scoped>\n",
       "    .dataframe tbody tr th:only-of-type {\n",
       "        vertical-align: middle;\n",
       "    }\n",
       "\n",
       "    .dataframe tbody tr th {\n",
       "        vertical-align: top;\n",
       "    }\n",
       "\n",
       "    .dataframe thead th {\n",
       "        text-align: right;\n",
       "    }\n",
       "</style>\n",
       "<table border=\"1\" class=\"dataframe\">\n",
       "  <thead>\n",
       "    <tr style=\"text-align: right;\">\n",
       "      <th></th>\n",
       "      <th>backers_count</th>\n",
       "      <th>converted_pledged_amount</th>\n",
       "      <th>staff_pick</th>\n",
       "      <th>days_until_launch</th>\n",
       "      <th>days_until_success</th>\n",
       "      <th>days_total</th>\n",
       "      <th>days_diff_total_success</th>\n",
       "      <th>converted_goal_amount</th>\n",
       "      <th>blurb_length</th>\n",
       "      <th>name_length</th>\n",
       "      <th>state</th>\n",
       "    </tr>\n",
       "  </thead>\n",
       "  <tbody>\n",
       "    <tr>\n",
       "      <th>count</th>\n",
       "      <td>144496.0</td>\n",
       "      <td>144496.0</td>\n",
       "      <td>144496.0</td>\n",
       "      <td>144496.0</td>\n",
       "      <td>144496.0</td>\n",
       "      <td>144496.0</td>\n",
       "      <td>144496.0</td>\n",
       "      <td>144496.0</td>\n",
       "      <td>144496.0</td>\n",
       "      <td>144496.0</td>\n",
       "      <td>144496.0</td>\n",
       "    </tr>\n",
       "    <tr>\n",
       "      <th>mean</th>\n",
       "      <td>152.0</td>\n",
       "      <td>13407.0</td>\n",
       "      <td>0.0</td>\n",
       "      <td>47.0</td>\n",
       "      <td>32.0</td>\n",
       "      <td>32.0</td>\n",
       "      <td>-0.0</td>\n",
       "      <td>38822.0</td>\n",
       "      <td>112.0</td>\n",
       "      <td>35.0</td>\n",
       "      <td>1.0</td>\n",
       "    </tr>\n",
       "    <tr>\n",
       "      <th>std</th>\n",
       "      <td>937.0</td>\n",
       "      <td>87959.0</td>\n",
       "      <td>0.0</td>\n",
       "      <td>130.0</td>\n",
       "      <td>12.0</td>\n",
       "      <td>12.0</td>\n",
       "      <td>0.0</td>\n",
       "      <td>1135388.0</td>\n",
       "      <td>27.0</td>\n",
       "      <td>16.0</td>\n",
       "      <td>0.0</td>\n",
       "    </tr>\n",
       "    <tr>\n",
       "      <th>min</th>\n",
       "      <td>0.0</td>\n",
       "      <td>0.0</td>\n",
       "      <td>0.0</td>\n",
       "      <td>0.0</td>\n",
       "      <td>1.0</td>\n",
       "      <td>1.0</td>\n",
       "      <td>-38.0</td>\n",
       "      <td>0.0</td>\n",
       "      <td>1.0</td>\n",
       "      <td>1.0</td>\n",
       "      <td>0.0</td>\n",
       "    </tr>\n",
       "    <tr>\n",
       "      <th>25%</th>\n",
       "      <td>4.0</td>\n",
       "      <td>150.0</td>\n",
       "      <td>0.0</td>\n",
       "      <td>3.0</td>\n",
       "      <td>30.0</td>\n",
       "      <td>30.0</td>\n",
       "      <td>0.0</td>\n",
       "      <td>1500.0</td>\n",
       "      <td>101.0</td>\n",
       "      <td>22.0</td>\n",
       "      <td>0.0</td>\n",
       "    </tr>\n",
       "    <tr>\n",
       "      <th>50%</th>\n",
       "      <td>30.0</td>\n",
       "      <td>1774.0</td>\n",
       "      <td>0.0</td>\n",
       "      <td>11.0</td>\n",
       "      <td>30.0</td>\n",
       "      <td>30.0</td>\n",
       "      <td>0.0</td>\n",
       "      <td>4924.0</td>\n",
       "      <td>124.0</td>\n",
       "      <td>35.0</td>\n",
       "      <td>1.0</td>\n",
       "    </tr>\n",
       "    <tr>\n",
       "      <th>75%</th>\n",
       "      <td>94.0</td>\n",
       "      <td>7077.0</td>\n",
       "      <td>0.0</td>\n",
       "      <td>37.0</td>\n",
       "      <td>34.0</td>\n",
       "      <td>34.0</td>\n",
       "      <td>0.0</td>\n",
       "      <td>12000.0</td>\n",
       "      <td>132.0</td>\n",
       "      <td>49.0</td>\n",
       "      <td>1.0</td>\n",
       "    </tr>\n",
       "    <tr>\n",
       "      <th>max</th>\n",
       "      <td>105857.0</td>\n",
       "      <td>8596474.0</td>\n",
       "      <td>1.0</td>\n",
       "      <td>2593.0</td>\n",
       "      <td>93.0</td>\n",
       "      <td>93.0</td>\n",
       "      <td>0.0</td>\n",
       "      <td>132567974.0</td>\n",
       "      <td>151.0</td>\n",
       "      <td>85.0</td>\n",
       "      <td>1.0</td>\n",
       "    </tr>\n",
       "  </tbody>\n",
       "</table>\n",
       "</div>"
      ],
      "text/plain": [
       "       backers_count  converted_pledged_amount  staff_pick  days_until_launch  \\\n",
       "count       144496.0                  144496.0    144496.0           144496.0   \n",
       "mean           152.0                   13407.0         0.0               47.0   \n",
       "std            937.0                   87959.0         0.0              130.0   \n",
       "min              0.0                       0.0         0.0                0.0   \n",
       "25%              4.0                     150.0         0.0                3.0   \n",
       "50%             30.0                    1774.0         0.0               11.0   \n",
       "75%             94.0                    7077.0         0.0               37.0   \n",
       "max         105857.0                 8596474.0         1.0             2593.0   \n",
       "\n",
       "       days_until_success  days_total  days_diff_total_success  \\\n",
       "count            144496.0    144496.0                 144496.0   \n",
       "mean                 32.0        32.0                     -0.0   \n",
       "std                  12.0        12.0                      0.0   \n",
       "min                   1.0         1.0                    -38.0   \n",
       "25%                  30.0        30.0                      0.0   \n",
       "50%                  30.0        30.0                      0.0   \n",
       "75%                  34.0        34.0                      0.0   \n",
       "max                  93.0        93.0                      0.0   \n",
       "\n",
       "       converted_goal_amount  blurb_length  name_length     state  \n",
       "count               144496.0      144496.0     144496.0  144496.0  \n",
       "mean                 38822.0         112.0         35.0       1.0  \n",
       "std                1135388.0          27.0         16.0       0.0  \n",
       "min                      0.0           1.0          1.0       0.0  \n",
       "25%                   1500.0         101.0         22.0       0.0  \n",
       "50%                   4924.0         124.0         35.0       1.0  \n",
       "75%                  12000.0         132.0         49.0       1.0  \n",
       "max              132567974.0         151.0         85.0       1.0  "
      ]
     },
     "execution_count": 5,
     "metadata": {},
     "output_type": "execute_result"
    }
   ],
   "source": [
    "df.describe().round()"
   ]
  },
  {
   "cell_type": "code",
   "execution_count": 26,
   "metadata": {},
   "outputs": [
    {
     "name": "stdout",
     "output_type": "stream",
     "text": [
      "2009-04-29\n",
      "2019-03-06\n"
     ]
    }
   ],
   "source": [
    "#Data Timespan\n",
    "print(df.launched_at.min())\n",
    "print(df.launched_at.max())"
   ]
  },
  {
   "cell_type": "markdown",
   "metadata": {},
   "source": [
    "# EDA"
   ]
  },
  {
   "cell_type": "code",
   "execution_count": 6,
   "metadata": {},
   "outputs": [
    {
     "data": {
      "image/png": "[encoded data removed]",
      "text/plain": [
       "<Figure size 432x288 with 1 Axes>"
      ]
     },
     "metadata": {
      "needs_background": "light"
     },
     "output_type": "display_data"
    }
   ],
   "source": [
    "#Distribution of successful & non-successful projects\n",
    "from matplotlib.ticker import PercentFormatter\n",
    "plt.hist(df[\"state\"], weights=np.ones(len(df[\"state\"])) / len(df[\"state\"]), bins=2, label=df[\"state\"])#\n",
    "plt.gca().yaxis.set_major_formatter(PercentFormatter(1))\n",
    "plt.tick_params(labelbottom=False)\n",
    "#plt.xticks(labels=[\"0\",\"1\"])\n",
    "plt.show()"
   ]
  },
  {
   "cell_type": "code",
   "execution_count": 16,
   "metadata": {},
   "outputs": [
    {
     "data": {
      "text/plain": [
       "61.0"
      ]
     },
     "execution_count": 16,
     "metadata": {},
     "output_type": "execute_result"
    }
   ],
   "source": [
    "#% of successful projects\n",
    "df.state.value_counts()\n",
    "(df.state.value_counts()[1] / (df.state.value_counts()[1] + df.state.value_counts()[0]) * 100).round()"
   ]
  },
  {
   "cell_type": "code",
   "execution_count": 7,
   "metadata": {},
   "outputs": [
    {
     "data": {
      "image/png": "[encoded data removed]",
      "text/plain": [
       "<Figure size 1440x504 with 1 Axes>"
      ]
     },
     "metadata": {
      "needs_background": "light"
     },
     "output_type": "display_data"
    }
   ],
   "source": [
    "#https://matplotlib.org/3.3.1/gallery/text_labels_and_annotations/date.html\n",
    "launched_at_count = df.groupby(\"launched_at\")[\"launched_at\"].count()\n",
    "\n",
    "fig = launched_at_count.plot(kind=\"line\", figsize=(20,7));\n",
    "plt.show()"
   ]
  },
  {
   "cell_type": "code",
   "execution_count": 17,
   "metadata": {},
   "outputs": [
    {
     "data": {
      "text/plain": [
       "music           19429\n",
       "film & video    19259\n",
       "technology      14541\n",
       "art             14360\n",
       "publishing      14131\n",
       "food            11181\n",
       "games            9318\n",
       "fashion          8049\n",
       "comics           6127\n",
       "design           5799\n",
       "photography      5540\n",
       "crafts           4949\n",
       "theater          4869\n",
       "journalism       4010\n",
       "dance            2934\n",
       "Name: category, dtype: int64"
      ]
     },
     "execution_count": 17,
     "metadata": {},
     "output_type": "execute_result"
    }
   ],
   "source": [
    "#Category overview\n",
    "df.category.value_counts()"
   ]
  },
  {
   "cell_type": "code",
   "execution_count": 87,
   "metadata": {},
   "outputs": [
    {
     "data": {
      "image/png": "[encoded data removed]",
      "text/plain": [
       "<Figure size 1080x432 with 1 Axes>"
      ]
     },
     "metadata": {
      "needs_background": "light"
     },
     "output_type": "display_data"
    }
   ],
   "source": [
    "plt.subplots(figsize = (15,6))\n",
    "sns.countplot(df.category);\n",
    "#Size ändern  "
   ]
  },
  {
   "cell_type": "code",
   "execution_count": 88,
   "metadata": {},
   "outputs": [
    {
     "data": {
      "image/png": "[encoded data removed]",
      "text/plain": [
       "<Figure size 1080x504 with 1 Axes>"
      ]
     },
     "metadata": {
      "needs_background": "light"
     },
     "output_type": "display_data"
    }
   ],
   "source": [
    "#df[\"category\"].value_counts().plot(kind='barh');\n",
    "plt.subplots(figsize = (15,7))\n",
    "sns.countplot(y=df.category, order = df['category'].value_counts().index);"
   ]
  },
  {
   "cell_type": "code",
   "execution_count": 25,
   "metadata": {},
   "outputs": [
    {
     "data": {
      "text/plain": [
       "22"
      ]
     },
     "execution_count": 25,
     "metadata": {},
     "output_type": "execute_result"
    }
   ],
   "source": [
    "#Countries\n",
    "len(df.country.value_counts())"
   ]
  },
  {
   "cell_type": "code",
   "execution_count": 92,
   "metadata": {},
   "outputs": [
    {
     "data": {
      "image/png": "[encoded data removed]",
      "text/plain": [
       "<Figure size 1080x504 with 1 Axes>"
      ]
     },
     "metadata": {
      "needs_background": "light"
     },
     "output_type": "display_data"
    }
   ],
   "source": [
    "#Top 10 Countries (Distribution)\n",
    "plt.subplots(figsize = (15,7))\n",
    "sns.countplot(y=df.country, order = df['country'].value_counts().head(10).index);\n",
    "#df[\"country\"].value_counts().head(10).plot(kind='barh');"
   ]
  },
  {
   "cell_type": "markdown",
   "metadata": {},
   "source": [
    "strong US-based"
   ]
  },
  {
   "cell_type": "code",
   "execution_count": 27,
   "metadata": {},
   "outputs": [
    {
     "data": {
      "text/plain": [
       "70409     132567974\n",
       "96230     113209128\n",
       "107016    100000000\n",
       "109076    100000000\n",
       "144011    100000000\n",
       "105919    100000000\n",
       "52026     100000000\n",
       "130742    100000000\n",
       "38106     100000000\n",
       "99839     100000000\n",
       "Name: converted_goal_amount, dtype: int64"
      ]
     },
     "execution_count": 27,
     "metadata": {},
     "output_type": "execute_result"
    }
   ],
   "source": [
    "#Top 10 Goals \n",
    "df.converted_goal_amount.sort_values(ascending=False)[0:10]"
   ]
  },
  {
   "cell_type": "markdown",
   "metadata": {},
   "source": [
    "Unrealistic/\"fun goals "
   ]
  },
  {
   "cell_type": "code",
   "execution_count": 29,
   "metadata": {},
   "outputs": [
    {
     "data": {
      "text/plain": [
       "100517    8596474\n",
       "73124     6333295\n",
       "140119    6256244\n",
       "43936     6256244\n",
       "135840    5702153\n",
       "98125     5545991\n",
       "20842     5408916\n",
       "126552    5333792\n",
       "93003     5333792\n",
       "52958     4236618\n",
       "Name: converted_pledged_amount, dtype: int64"
      ]
     },
     "execution_count": 29,
     "metadata": {},
     "output_type": "execute_result"
    }
   ],
   "source": [
    "#Top 10 Pledges\n",
    "df.converted_pledged_amount.sort_values(ascending=False)[0:10]"
   ]
  },
  {
   "cell_type": "markdown",
   "metadata": {},
   "source": [
    " "
   ]
  },
  {
   "cell_type": "code",
   "execution_count": 42,
   "metadata": {},
   "outputs": [
    {
     "data": {
      "text/plain": [
       "count       144496.0\n",
       "mean        -25415.0\n",
       "std        1138222.0\n",
       "min     -132567974.0\n",
       "25%          -3538.0\n",
       "50%             95.0\n",
       "75%            968.0\n",
       "max        7646474.0\n",
       "Name: goal_usd_pledged_diff, dtype: float64"
      ]
     },
     "execution_count": 42,
     "metadata": {},
     "output_type": "execute_result"
    }
   ],
   "source": [
    "#Check differences between goal & pledged\n",
    "df[\"goal_usd_pledged_diff\"] = df.converted_pledged_amount - df.converted_goal_amount\n",
    "df[\"goal_usd_pledged_diff\"].describe().round()"
   ]
  },
  {
   "cell_type": "markdown",
   "metadata": {},
   "source": [
    " "
   ]
  },
  {
   "cell_type": "markdown",
   "metadata": {},
   "source": [
    "**Avg. usd spent per backer (per category)**"
   ]
  },
  {
   "cell_type": "code",
   "execution_count": 30,
   "metadata": {},
   "outputs": [
    {
     "data": {
      "text/html": [
       "<div>\n",
       "<style scoped>\n",
       "    .dataframe tbody tr th:only-of-type {\n",
       "        vertical-align: middle;\n",
       "    }\n",
       "\n",
       "    .dataframe tbody tr th {\n",
       "        vertical-align: top;\n",
       "    }\n",
       "\n",
       "    .dataframe thead th {\n",
       "        text-align: right;\n",
       "    }\n",
       "</style>\n",
       "<table border=\"1\" class=\"dataframe\">\n",
       "  <thead>\n",
       "    <tr style=\"text-align: right;\">\n",
       "      <th></th>\n",
       "      <th>dance</th>\n",
       "      <th>film &amp; video</th>\n",
       "      <th>technology</th>\n",
       "      <th>theater</th>\n",
       "      <th>design</th>\n",
       "      <th>music</th>\n",
       "      <th>photography</th>\n",
       "      <th>food</th>\n",
       "      <th>fashion</th>\n",
       "      <th>publishing</th>\n",
       "      <th>art</th>\n",
       "      <th>crafts</th>\n",
       "      <th>games</th>\n",
       "      <th>journalism</th>\n",
       "      <th>comics</th>\n",
       "    </tr>\n",
       "  </thead>\n",
       "  <tbody>\n",
       "    <tr>\n",
       "      <th>avg_usd_per_backer</th>\n",
       "      <td>69.0</td>\n",
       "      <td>69.0</td>\n",
       "      <td>66.0</td>\n",
       "      <td>63.0</td>\n",
       "      <td>60.0</td>\n",
       "      <td>56.0</td>\n",
       "      <td>55.0</td>\n",
       "      <td>54.0</td>\n",
       "      <td>51.0</td>\n",
       "      <td>48.0</td>\n",
       "      <td>46.0</td>\n",
       "      <td>38.0</td>\n",
       "      <td>37.0</td>\n",
       "      <td>35.0</td>\n",
       "      <td>34.0</td>\n",
       "    </tr>\n",
       "  </tbody>\n",
       "</table>\n",
       "</div>"
      ],
      "text/plain": [
       "                    dance  film & video  technology  theater  design  music  \\\n",
       "avg_usd_per_backer   69.0          69.0        66.0     63.0    60.0   56.0   \n",
       "\n",
       "                    photography  food  fashion  publishing   art  crafts  \\\n",
       "avg_usd_per_backer         55.0  54.0     51.0        48.0  46.0    38.0   \n",
       "\n",
       "                    games  journalism  comics  \n",
       "avg_usd_per_backer   37.0        35.0    34.0  "
      ]
     },
     "metadata": {},
     "output_type": "display_data"
    },
    {
     "data": {
      "text/plain": [
       "Text(0, 0.5, 'Average pledged per backer (USD)')"
      ]
     },
     "execution_count": 30,
     "metadata": {},
     "output_type": "execute_result"
    },
    {
     "data": {
      "image/png": "[encoded data removed]",
      "text/plain": [
       "<Figure size 1008x360 with 1 Axes>"
      ]
     },
     "metadata": {
      "needs_background": "light"
     },
     "output_type": "display_data"
    }
   ],
   "source": [
    "df[\"avg_usd_per_backer\"] = df.converted_pledged_amount / df.backers_count\n",
    "\n",
    "# Get a list of all categories \n",
    "cat_list = list(df['category'].unique())\n",
    "\n",
    "# Create a table of the average usd spent per backer for every category\n",
    "pledge_table = dict()\n",
    "for category in cat_list:\n",
    "    cat_df = df[df['category'] == category]\n",
    "    pledge_table.update({category : cat_df['avg_usd_per_backer'].median()})\n",
    "\n",
    "# Visualize the results\n",
    "pledge_df = pd.DataFrame(pledge_table, index=['avg_usd_per_backer'])\n",
    "pledge_df.sort_values('avg_usd_per_backer', axis=1, inplace=True, ascending=False)\n",
    "display(pledge_df.head().round())\n",
    "ax = pledge_df.plot(kind='bar', \n",
    "                    title='Average pledged per backer by category', \n",
    "                    rot=0, figsize=(14,5))\n",
    "ax.set_xlabel('Categories')\n",
    "ax.set_ylabel('Average pledged per backer (USD)')"
   ]
  },
  {
   "cell_type": "markdown",
   "metadata": {},
   "source": [
    "**Check state** "
   ]
  },
  {
   "cell_type": "code",
   "execution_count": 34,
   "metadata": {},
   "outputs": [],
   "source": [
    "#Only view projects that were picked by kickstater staff -> got featured\n",
    "staff_pick1_state = df.query(\"staff_pick == 1\")"
   ]
  },
  {
   "cell_type": "code",
   "execution_count": 35,
   "metadata": {},
   "outputs": [
    {
     "data": {
      "text/html": [
       "<div>\n",
       "<style scoped>\n",
       "    .dataframe tbody tr th:only-of-type {\n",
       "        vertical-align: middle;\n",
       "    }\n",
       "\n",
       "    .dataframe tbody tr th {\n",
       "        vertical-align: top;\n",
       "    }\n",
       "\n",
       "    .dataframe thead th {\n",
       "        text-align: right;\n",
       "    }\n",
       "</style>\n",
       "<table border=\"1\" class=\"dataframe\">\n",
       "  <thead>\n",
       "    <tr style=\"text-align: right;\">\n",
       "      <th></th>\n",
       "      <th>backers_count</th>\n",
       "      <th>converted_pledged_amount</th>\n",
       "      <th>staff_pick</th>\n",
       "      <th>days_until_launch</th>\n",
       "      <th>days_until_success</th>\n",
       "      <th>days_total</th>\n",
       "      <th>days_diff_total_success</th>\n",
       "      <th>converted_goal_amount</th>\n",
       "      <th>blurb_length</th>\n",
       "      <th>name_length</th>\n",
       "      <th>state</th>\n",
       "      <th>avg_usd_per_backer</th>\n",
       "    </tr>\n",
       "  </thead>\n",
       "  <tbody>\n",
       "    <tr>\n",
       "      <th>count</th>\n",
       "      <td>19385.0</td>\n",
       "      <td>19385.0</td>\n",
       "      <td>19385.0</td>\n",
       "      <td>19385.0</td>\n",
       "      <td>19385.0</td>\n",
       "      <td>19385.0</td>\n",
       "      <td>19385.0</td>\n",
       "      <td>19385.0</td>\n",
       "      <td>19385.0</td>\n",
       "      <td>19385.0</td>\n",
       "      <td>19385.0</td>\n",
       "      <td>19376.0</td>\n",
       "    </tr>\n",
       "    <tr>\n",
       "      <th>mean</th>\n",
       "      <td>509.0</td>\n",
       "      <td>44773.0</td>\n",
       "      <td>1.0</td>\n",
       "      <td>64.0</td>\n",
       "      <td>32.0</td>\n",
       "      <td>32.0</td>\n",
       "      <td>-0.0</td>\n",
       "      <td>20724.0</td>\n",
       "      <td>114.0</td>\n",
       "      <td>38.0</td>\n",
       "      <td>1.0</td>\n",
       "      <td>96.0</td>\n",
       "    </tr>\n",
       "    <tr>\n",
       "      <th>std</th>\n",
       "      <td>2228.0</td>\n",
       "      <td>193151.0</td>\n",
       "      <td>0.0</td>\n",
       "      <td>153.0</td>\n",
       "      <td>9.0</td>\n",
       "      <td>9.0</td>\n",
       "      <td>0.0</td>\n",
       "      <td>89259.0</td>\n",
       "      <td>24.0</td>\n",
       "      <td>16.0</td>\n",
       "      <td>0.0</td>\n",
       "      <td>133.0</td>\n",
       "    </tr>\n",
       "    <tr>\n",
       "      <th>min</th>\n",
       "      <td>0.0</td>\n",
       "      <td>0.0</td>\n",
       "      <td>1.0</td>\n",
       "      <td>0.0</td>\n",
       "      <td>1.0</td>\n",
       "      <td>1.0</td>\n",
       "      <td>-5.0</td>\n",
       "      <td>1.0</td>\n",
       "      <td>1.0</td>\n",
       "      <td>3.0</td>\n",
       "      <td>0.0</td>\n",
       "      <td>1.0</td>\n",
       "    </tr>\n",
       "    <tr>\n",
       "      <th>25%</th>\n",
       "      <td>71.0</td>\n",
       "      <td>4288.0</td>\n",
       "      <td>1.0</td>\n",
       "      <td>8.0</td>\n",
       "      <td>30.0</td>\n",
       "      <td>30.0</td>\n",
       "      <td>0.0</td>\n",
       "      <td>3500.0</td>\n",
       "      <td>104.0</td>\n",
       "      <td>25.0</td>\n",
       "      <td>1.0</td>\n",
       "      <td>41.0</td>\n",
       "    </tr>\n",
       "    <tr>\n",
       "      <th>50%</th>\n",
       "      <td>151.0</td>\n",
       "      <td>10835.0</td>\n",
       "      <td>1.0</td>\n",
       "      <td>22.0</td>\n",
       "      <td>30.0</td>\n",
       "      <td>30.0</td>\n",
       "      <td>0.0</td>\n",
       "      <td>8630.0</td>\n",
       "      <td>124.0</td>\n",
       "      <td>39.0</td>\n",
       "      <td>1.0</td>\n",
       "      <td>65.0</td>\n",
       "    </tr>\n",
       "    <tr>\n",
       "      <th>75%</th>\n",
       "      <td>349.0</td>\n",
       "      <td>28618.0</td>\n",
       "      <td>1.0</td>\n",
       "      <td>56.0</td>\n",
       "      <td>33.0</td>\n",
       "      <td>33.0</td>\n",
       "      <td>0.0</td>\n",
       "      <td>20000.0</td>\n",
       "      <td>132.0</td>\n",
       "      <td>51.0</td>\n",
       "      <td>1.0</td>\n",
       "      <td>106.0</td>\n",
       "    </tr>\n",
       "    <tr>\n",
       "      <th>max</th>\n",
       "      <td>105857.0</td>\n",
       "      <td>8596474.0</td>\n",
       "      <td>1.0</td>\n",
       "      <td>2593.0</td>\n",
       "      <td>91.0</td>\n",
       "      <td>91.0</td>\n",
       "      <td>0.0</td>\n",
       "      <td>10000000.0</td>\n",
       "      <td>150.0</td>\n",
       "      <td>85.0</td>\n",
       "      <td>1.0</td>\n",
       "      <td>4100.0</td>\n",
       "    </tr>\n",
       "  </tbody>\n",
       "</table>\n",
       "</div>"
      ],
      "text/plain": [
       "       backers_count  converted_pledged_amount  staff_pick  days_until_launch  \\\n",
       "count        19385.0                   19385.0     19385.0            19385.0   \n",
       "mean           509.0                   44773.0         1.0               64.0   \n",
       "std           2228.0                  193151.0         0.0              153.0   \n",
       "min              0.0                       0.0         1.0                0.0   \n",
       "25%             71.0                    4288.0         1.0                8.0   \n",
       "50%            151.0                   10835.0         1.0               22.0   \n",
       "75%            349.0                   28618.0         1.0               56.0   \n",
       "max         105857.0                 8596474.0         1.0             2593.0   \n",
       "\n",
       "       days_until_success  days_total  days_diff_total_success  \\\n",
       "count             19385.0     19385.0                  19385.0   \n",
       "mean                 32.0        32.0                     -0.0   \n",
       "std                   9.0         9.0                      0.0   \n",
       "min                   1.0         1.0                     -5.0   \n",
       "25%                  30.0        30.0                      0.0   \n",
       "50%                  30.0        30.0                      0.0   \n",
       "75%                  33.0        33.0                      0.0   \n",
       "max                  91.0        91.0                      0.0   \n",
       "\n",
       "       converted_goal_amount  blurb_length  name_length    state  \\\n",
       "count                19385.0       19385.0      19385.0  19385.0   \n",
       "mean                 20724.0         114.0         38.0      1.0   \n",
       "std                  89259.0          24.0         16.0      0.0   \n",
       "min                      1.0           1.0          3.0      0.0   \n",
       "25%                   3500.0         104.0         25.0      1.0   \n",
       "50%                   8630.0         124.0         39.0      1.0   \n",
       "75%                  20000.0         132.0         51.0      1.0   \n",
       "max               10000000.0         150.0         85.0      1.0   \n",
       "\n",
       "       avg_usd_per_backer  \n",
       "count             19376.0  \n",
       "mean                 96.0  \n",
       "std                 133.0  \n",
       "min                   1.0  \n",
       "25%                  41.0  \n",
       "50%                  65.0  \n",
       "75%                 106.0  \n",
       "max                4100.0  "
      ]
     },
     "execution_count": 35,
     "metadata": {},
     "output_type": "execute_result"
    }
   ],
   "source": [
    "staff_pick1_state.describe().round()"
   ]
  },
  {
   "cell_type": "markdown",
   "metadata": {},
   "source": [
    "Differenzen erklären... (goal etc.) "
   ]
  },
  {
   "cell_type": "code",
   "execution_count": 32,
   "metadata": {},
   "outputs": [
    {
     "data": {
      "text/plain": [
       "15.0"
      ]
     },
     "execution_count": 32,
     "metadata": {},
     "output_type": "execute_result"
    }
   ],
   "source": [
    "(df.staff_pick.value_counts()[1] / df.staff_pick.value_counts()[0] * 100).round()"
   ]
  },
  {
   "cell_type": "markdown",
   "metadata": {},
   "source": [
    "15% of the projects were picked by kickstarter staff"
   ]
  },
  {
   "cell_type": "code",
   "execution_count": 33,
   "metadata": {},
   "outputs": [
    {
     "data": {
      "image/png": "[encoded data removed]",
      "text/plain": [
       "<Figure size 432x288 with 1 Axes>"
      ]
     },
     "metadata": {
      "needs_background": "light"
     },
     "output_type": "display_data"
    }
   ],
   "source": [
    "sns.countplot(x=df.staff_pick, hue=df.state);"
   ]
  },
  {
   "cell_type": "code",
   "execution_count": null,
   "metadata": {},
   "outputs": [],
   "source": [
    "# 0 & 1 jeweils umbennen "
   ]
  },
  {
   "cell_type": "code",
   "execution_count": 38,
   "metadata": {},
   "outputs": [
    {
     "data": {
      "text/plain": [
       "10.0"
      ]
     },
     "execution_count": 38,
     "metadata": {},
     "output_type": "execute_result"
    }
   ],
   "source": [
    "(staff_pick1_state.state.value_counts()[0] / staff_pick1_state.state.value_counts()[1] * 100).round()"
   ]
  },
  {
   "cell_type": "code",
   "execution_count": 39,
   "metadata": {},
   "outputs": [
    {
     "data": {
      "text/plain": [
       "90.0"
      ]
     },
     "execution_count": 39,
     "metadata": {},
     "output_type": "execute_result"
    }
   ],
   "source": [
    "#~10% of the projects which were featured failed -> so ~90% will succeed \n",
    "((1 - staff_pick1_state.state.value_counts()[0] / staff_pick1_state.state.value_counts()[1]) * 100).round()"
   ]
  },
  {
   "cell_type": "markdown",
   "metadata": {},
   "source": [
    "Staff_pick is a strong indicator for success "
   ]
  },
  {
   "cell_type": "code",
   "execution_count": 40,
   "metadata": {},
   "outputs": [
    {
     "data": {
      "text/html": [
       "<div>\n",
       "<style scoped>\n",
       "    .dataframe tbody tr th:only-of-type {\n",
       "        vertical-align: middle;\n",
       "    }\n",
       "\n",
       "    .dataframe tbody tr th {\n",
       "        vertical-align: top;\n",
       "    }\n",
       "\n",
       "    .dataframe thead th {\n",
       "        text-align: right;\n",
       "    }\n",
       "</style>\n",
       "<table border=\"1\" class=\"dataframe\">\n",
       "  <thead>\n",
       "    <tr style=\"text-align: right;\">\n",
       "      <th></th>\n",
       "      <th>backers_count</th>\n",
       "      <th>converted_pledged_amount</th>\n",
       "      <th>staff_pick</th>\n",
       "      <th>days_until_launch</th>\n",
       "      <th>days_until_success</th>\n",
       "      <th>days_total</th>\n",
       "      <th>days_diff_total_success</th>\n",
       "      <th>converted_goal_amount</th>\n",
       "      <th>blurb_length</th>\n",
       "      <th>name_length</th>\n",
       "      <th>state</th>\n",
       "      <th>avg_usd_per_backer</th>\n",
       "    </tr>\n",
       "  </thead>\n",
       "  <tbody>\n",
       "    <tr>\n",
       "      <th>count</th>\n",
       "      <td>17670.00</td>\n",
       "      <td>17670.00</td>\n",
       "      <td>17670.0</td>\n",
       "      <td>17670.00</td>\n",
       "      <td>17670.00</td>\n",
       "      <td>17670.00</td>\n",
       "      <td>17670.00</td>\n",
       "      <td>17670.00</td>\n",
       "      <td>17670.00</td>\n",
       "      <td>17670.00</td>\n",
       "      <td>17670.0</td>\n",
       "      <td>17670.00</td>\n",
       "    </tr>\n",
       "    <tr>\n",
       "      <th>mean</th>\n",
       "      <td>550.31</td>\n",
       "      <td>48307.49</td>\n",
       "      <td>1.0</td>\n",
       "      <td>64.21</td>\n",
       "      <td>31.71</td>\n",
       "      <td>31.71</td>\n",
       "      <td>-0.00</td>\n",
       "      <td>18665.06</td>\n",
       "      <td>114.32</td>\n",
       "      <td>37.66</td>\n",
       "      <td>1.0</td>\n",
       "      <td>96.84</td>\n",
       "    </tr>\n",
       "    <tr>\n",
       "      <th>std</th>\n",
       "      <td>2328.29</td>\n",
       "      <td>201821.08</td>\n",
       "      <td>0.0</td>\n",
       "      <td>153.93</td>\n",
       "      <td>9.32</td>\n",
       "      <td>9.32</td>\n",
       "      <td>0.04</td>\n",
       "      <td>49358.94</td>\n",
       "      <td>23.91</td>\n",
       "      <td>15.48</td>\n",
       "      <td>0.0</td>\n",
       "      <td>135.17</td>\n",
       "    </tr>\n",
       "    <tr>\n",
       "      <th>min</th>\n",
       "      <td>2.00</td>\n",
       "      <td>26.00</td>\n",
       "      <td>1.0</td>\n",
       "      <td>0.00</td>\n",
       "      <td>1.00</td>\n",
       "      <td>1.00</td>\n",
       "      <td>-5.00</td>\n",
       "      <td>1.00</td>\n",
       "      <td>1.00</td>\n",
       "      <td>3.00</td>\n",
       "      <td>1.0</td>\n",
       "      <td>1.16</td>\n",
       "    </tr>\n",
       "    <tr>\n",
       "      <th>25%</th>\n",
       "      <td>81.00</td>\n",
       "      <td>5093.75</td>\n",
       "      <td>1.0</td>\n",
       "      <td>8.00</td>\n",
       "      <td>30.00</td>\n",
       "      <td>30.00</td>\n",
       "      <td>0.00</td>\n",
       "      <td>3300.00</td>\n",
       "      <td>104.00</td>\n",
       "      <td>25.00</td>\n",
       "      <td>1.0</td>\n",
       "      <td>42.16</td>\n",
       "    </tr>\n",
       "    <tr>\n",
       "      <th>50%</th>\n",
       "      <td>167.00</td>\n",
       "      <td>11892.00</td>\n",
       "      <td>1.0</td>\n",
       "      <td>22.00</td>\n",
       "      <td>30.00</td>\n",
       "      <td>30.00</td>\n",
       "      <td>0.00</td>\n",
       "      <td>8000.00</td>\n",
       "      <td>124.00</td>\n",
       "      <td>39.00</td>\n",
       "      <td>1.0</td>\n",
       "      <td>65.45</td>\n",
       "    </tr>\n",
       "    <tr>\n",
       "      <th>75%</th>\n",
       "      <td>381.00</td>\n",
       "      <td>31052.25</td>\n",
       "      <td>1.0</td>\n",
       "      <td>56.00</td>\n",
       "      <td>33.00</td>\n",
       "      <td>33.00</td>\n",
       "      <td>0.00</td>\n",
       "      <td>20000.00</td>\n",
       "      <td>132.00</td>\n",
       "      <td>52.00</td>\n",
       "      <td>1.0</td>\n",
       "      <td>106.64</td>\n",
       "    </tr>\n",
       "    <tr>\n",
       "      <th>max</th>\n",
       "      <td>105857.00</td>\n",
       "      <td>8596474.00</td>\n",
       "      <td>1.0</td>\n",
       "      <td>2593.00</td>\n",
       "      <td>91.00</td>\n",
       "      <td>91.00</td>\n",
       "      <td>0.00</td>\n",
       "      <td>2000000.00</td>\n",
       "      <td>150.00</td>\n",
       "      <td>85.00</td>\n",
       "      <td>1.0</td>\n",
       "      <td>4100.29</td>\n",
       "    </tr>\n",
       "  </tbody>\n",
       "</table>\n",
       "</div>"
      ],
      "text/plain": [
       "       backers_count  converted_pledged_amount  staff_pick  days_until_launch  \\\n",
       "count       17670.00                  17670.00     17670.0           17670.00   \n",
       "mean          550.31                  48307.49         1.0              64.21   \n",
       "std          2328.29                 201821.08         0.0             153.93   \n",
       "min             2.00                     26.00         1.0               0.00   \n",
       "25%            81.00                   5093.75         1.0               8.00   \n",
       "50%           167.00                  11892.00         1.0              22.00   \n",
       "75%           381.00                  31052.25         1.0              56.00   \n",
       "max        105857.00                8596474.00         1.0            2593.00   \n",
       "\n",
       "       days_until_success  days_total  days_diff_total_success  \\\n",
       "count            17670.00    17670.00                 17670.00   \n",
       "mean                31.71       31.71                    -0.00   \n",
       "std                  9.32        9.32                     0.04   \n",
       "min                  1.00        1.00                    -5.00   \n",
       "25%                 30.00       30.00                     0.00   \n",
       "50%                 30.00       30.00                     0.00   \n",
       "75%                 33.00       33.00                     0.00   \n",
       "max                 91.00       91.00                     0.00   \n",
       "\n",
       "       converted_goal_amount  blurb_length  name_length    state  \\\n",
       "count               17670.00      17670.00     17670.00  17670.0   \n",
       "mean                18665.06        114.32        37.66      1.0   \n",
       "std                 49358.94         23.91        15.48      0.0   \n",
       "min                     1.00          1.00         3.00      1.0   \n",
       "25%                  3300.00        104.00        25.00      1.0   \n",
       "50%                  8000.00        124.00        39.00      1.0   \n",
       "75%                 20000.00        132.00        52.00      1.0   \n",
       "max               2000000.00        150.00        85.00      1.0   \n",
       "\n",
       "       avg_usd_per_backer  \n",
       "count            17670.00  \n",
       "mean                96.84  \n",
       "std                135.17  \n",
       "min                  1.16  \n",
       "25%                 42.16  \n",
       "50%                 65.45  \n",
       "75%                106.64  \n",
       "max               4100.29  "
      ]
     },
     "execution_count": 40,
     "metadata": {},
     "output_type": "execute_result"
    }
   ],
   "source": [
    "#If state = 1 & staff_pick = 1, do we get more money than we have set as our goal? \n",
    "staff_pick1_state1 = df.query(\"staff_pick == 1 and state ==1\")\n",
    "staff_pick1_state1.describe().round(2)"
   ]
  },
  {
   "cell_type": "markdown",
   "metadata": {},
   "source": [
    "bisschen erklären... "
   ]
  },
  {
   "cell_type": "code",
   "execution_count": 43,
   "metadata": {},
   "outputs": [
    {
     "data": {
      "text/plain": [
       "count      17670.00\n",
       "mean       29642.43\n",
       "std       175503.94\n",
       "min        -5284.00\n",
       "25%          534.00\n",
       "50%         1896.50\n",
       "75%         7861.25\n",
       "max      7646474.00\n",
       "Name: goal_usd_pledged_diff, dtype: float64"
      ]
     },
     "execution_count": 43,
     "metadata": {},
     "output_type": "execute_result"
    }
   ],
   "source": [
    "#update the query with the new column \"goal_usd_pledged_diff\"\n",
    "staff_pick1_state1 = df.query(\"staff_pick == 1 & state ==1\")\n",
    "staff_pick1_state1.describe().round(2)\n",
    "staff_pick1_state1.goal_usd_pledged_diff.describe().round(2)"
   ]
  },
  {
   "cell_type": "code",
   "execution_count": 50,
   "metadata": {},
   "outputs": [
    {
     "name": "stdout",
     "output_type": "stream",
     "text": [
      "137.0  more backers\n",
      "13.689370968631124  $ more spending per backer\n"
     ]
    }
   ],
   "source": [
    "#Differences between backers_count & avg_usd_per_backer when state = 1 & staff_pick = 1 and with the normal dataset\n",
    "print(staff_pick1_state1.backers_count.median() - df.backers_count.median(),\" more backers\")\n",
    "print((staff_pick1_state1.avg_usd_per_backer.median() - df.avg_usd_per_backer.median()),\" $ more spending per backer\")"
   ]
  },
  {
   "cell_type": "markdown",
   "metadata": {},
   "source": [
    " "
   ]
  },
  {
   "cell_type": "markdown",
   "metadata": {},
   "source": [
    "**Check successful projects**"
   ]
  },
  {
   "cell_type": "code",
   "execution_count": 51,
   "metadata": {},
   "outputs": [
    {
     "data": {
      "text/html": [
       "<div>\n",
       "<style scoped>\n",
       "    .dataframe tbody tr th:only-of-type {\n",
       "        vertical-align: middle;\n",
       "    }\n",
       "\n",
       "    .dataframe tbody tr th {\n",
       "        vertical-align: top;\n",
       "    }\n",
       "\n",
       "    .dataframe thead th {\n",
       "        text-align: right;\n",
       "    }\n",
       "</style>\n",
       "<table border=\"1\" class=\"dataframe\">\n",
       "  <thead>\n",
       "    <tr style=\"text-align: right;\">\n",
       "      <th></th>\n",
       "      <th>backers_count</th>\n",
       "      <th>converted_pledged_amount</th>\n",
       "      <th>staff_pick</th>\n",
       "      <th>days_until_launch</th>\n",
       "      <th>days_until_success</th>\n",
       "      <th>days_total</th>\n",
       "      <th>days_diff_total_success</th>\n",
       "      <th>converted_goal_amount</th>\n",
       "      <th>blurb_length</th>\n",
       "      <th>name_length</th>\n",
       "      <th>state</th>\n",
       "      <th>avg_usd_per_backer</th>\n",
       "      <th>goal_usd_pledged_diff</th>\n",
       "    </tr>\n",
       "  </thead>\n",
       "  <tbody>\n",
       "    <tr>\n",
       "      <th>count</th>\n",
       "      <td>88098.0</td>\n",
       "      <td>88098.0</td>\n",
       "      <td>88098.0</td>\n",
       "      <td>88098.0</td>\n",
       "      <td>88098.0</td>\n",
       "      <td>88098.0</td>\n",
       "      <td>88098.0</td>\n",
       "      <td>88098.0</td>\n",
       "      <td>88098.0</td>\n",
       "      <td>88098.0</td>\n",
       "      <td>88098.0</td>\n",
       "      <td>88098.0</td>\n",
       "      <td>88098.0</td>\n",
       "    </tr>\n",
       "    <tr>\n",
       "      <th>mean</th>\n",
       "      <td>242.0</td>\n",
       "      <td>21286.0</td>\n",
       "      <td>0.0</td>\n",
       "      <td>51.0</td>\n",
       "      <td>31.0</td>\n",
       "      <td>31.0</td>\n",
       "      <td>-0.0</td>\n",
       "      <td>8915.0</td>\n",
       "      <td>112.0</td>\n",
       "      <td>37.0</td>\n",
       "      <td>1.0</td>\n",
       "      <td>92.0</td>\n",
       "      <td>12372.0</td>\n",
       "    </tr>\n",
       "    <tr>\n",
       "      <th>std</th>\n",
       "      <td>1190.0</td>\n",
       "      <td>111843.0</td>\n",
       "      <td>0.0</td>\n",
       "      <td>132.0</td>\n",
       "      <td>11.0</td>\n",
       "      <td>11.0</td>\n",
       "      <td>0.0</td>\n",
       "      <td>25336.0</td>\n",
       "      <td>26.0</td>\n",
       "      <td>15.0</td>\n",
       "      <td>0.0</td>\n",
       "      <td>134.0</td>\n",
       "      <td>99753.0</td>\n",
       "    </tr>\n",
       "    <tr>\n",
       "      <th>min</th>\n",
       "      <td>1.0</td>\n",
       "      <td>1.0</td>\n",
       "      <td>0.0</td>\n",
       "      <td>0.0</td>\n",
       "      <td>1.0</td>\n",
       "      <td>1.0</td>\n",
       "      <td>-38.0</td>\n",
       "      <td>0.0</td>\n",
       "      <td>1.0</td>\n",
       "      <td>2.0</td>\n",
       "      <td>1.0</td>\n",
       "      <td>1.0</td>\n",
       "      <td>-5284.0</td>\n",
       "    </tr>\n",
       "    <tr>\n",
       "      <th>25%</th>\n",
       "      <td>32.0</td>\n",
       "      <td>1746.0</td>\n",
       "      <td>0.0</td>\n",
       "      <td>5.0</td>\n",
       "      <td>29.0</td>\n",
       "      <td>29.0</td>\n",
       "      <td>0.0</td>\n",
       "      <td>1000.0</td>\n",
       "      <td>100.0</td>\n",
       "      <td>24.0</td>\n",
       "      <td>1.0</td>\n",
       "      <td>39.0</td>\n",
       "      <td>159.0</td>\n",
       "    </tr>\n",
       "    <tr>\n",
       "      <th>50%</th>\n",
       "      <td>69.0</td>\n",
       "      <td>4894.0</td>\n",
       "      <td>0.0</td>\n",
       "      <td>15.0</td>\n",
       "      <td>30.0</td>\n",
       "      <td>30.0</td>\n",
       "      <td>0.0</td>\n",
       "      <td>3500.0</td>\n",
       "      <td>123.0</td>\n",
       "      <td>37.0</td>\n",
       "      <td>1.0</td>\n",
       "      <td>62.0</td>\n",
       "      <td>610.0</td>\n",
       "    </tr>\n",
       "    <tr>\n",
       "      <th>75%</th>\n",
       "      <td>161.0</td>\n",
       "      <td>12652.0</td>\n",
       "      <td>0.0</td>\n",
       "      <td>42.0</td>\n",
       "      <td>32.0</td>\n",
       "      <td>32.0</td>\n",
       "      <td>0.0</td>\n",
       "      <td>9812.0</td>\n",
       "      <td>132.0</td>\n",
       "      <td>51.0</td>\n",
       "      <td>1.0</td>\n",
       "      <td>102.0</td>\n",
       "      <td>2486.0</td>\n",
       "    </tr>\n",
       "    <tr>\n",
       "      <th>max</th>\n",
       "      <td>105857.0</td>\n",
       "      <td>8596474.0</td>\n",
       "      <td>1.0</td>\n",
       "      <td>2593.0</td>\n",
       "      <td>93.0</td>\n",
       "      <td>93.0</td>\n",
       "      <td>0.0</td>\n",
       "      <td>2000000.0</td>\n",
       "      <td>151.0</td>\n",
       "      <td>85.0</td>\n",
       "      <td>1.0</td>\n",
       "      <td>9606.0</td>\n",
       "      <td>7646474.0</td>\n",
       "    </tr>\n",
       "  </tbody>\n",
       "</table>\n",
       "</div>"
      ],
      "text/plain": [
       "       backers_count  converted_pledged_amount  staff_pick  days_until_launch  \\\n",
       "count        88098.0                   88098.0     88098.0            88098.0   \n",
       "mean           242.0                   21286.0         0.0               51.0   \n",
       "std           1190.0                  111843.0         0.0              132.0   \n",
       "min              1.0                       1.0         0.0                0.0   \n",
       "25%             32.0                    1746.0         0.0                5.0   \n",
       "50%             69.0                    4894.0         0.0               15.0   \n",
       "75%            161.0                   12652.0         0.0               42.0   \n",
       "max         105857.0                 8596474.0         1.0             2593.0   \n",
       "\n",
       "       days_until_success  days_total  days_diff_total_success  \\\n",
       "count             88098.0     88098.0                  88098.0   \n",
       "mean                 31.0        31.0                     -0.0   \n",
       "std                  11.0        11.0                      0.0   \n",
       "min                   1.0         1.0                    -38.0   \n",
       "25%                  29.0        29.0                      0.0   \n",
       "50%                  30.0        30.0                      0.0   \n",
       "75%                  32.0        32.0                      0.0   \n",
       "max                  93.0        93.0                      0.0   \n",
       "\n",
       "       converted_goal_amount  blurb_length  name_length    state  \\\n",
       "count                88098.0       88098.0      88098.0  88098.0   \n",
       "mean                  8915.0         112.0         37.0      1.0   \n",
       "std                  25336.0          26.0         15.0      0.0   \n",
       "min                      0.0           1.0          2.0      1.0   \n",
       "25%                   1000.0         100.0         24.0      1.0   \n",
       "50%                   3500.0         123.0         37.0      1.0   \n",
       "75%                   9812.0         132.0         51.0      1.0   \n",
       "max                2000000.0         151.0         85.0      1.0   \n",
       "\n",
       "       avg_usd_per_backer  goal_usd_pledged_diff  \n",
       "count             88098.0                88098.0  \n",
       "mean                 92.0                12372.0  \n",
       "std                 134.0                99753.0  \n",
       "min                   1.0                -5284.0  \n",
       "25%                  39.0                  159.0  \n",
       "50%                  62.0                  610.0  \n",
       "75%                 102.0                 2486.0  \n",
       "max                9606.0              7646474.0  "
      ]
     },
     "execution_count": 51,
     "metadata": {},
     "output_type": "execute_result"
    }
   ],
   "source": [
    "state1 = df.query(\"state == 1\")\n",
    "state1.describe().round()"
   ]
  },
  {
   "cell_type": "code",
   "execution_count": 52,
   "metadata": {},
   "outputs": [
    {
     "data": {
      "text/html": [
       "<div>\n",
       "<style scoped>\n",
       "    .dataframe tbody tr th:only-of-type {\n",
       "        vertical-align: middle;\n",
       "    }\n",
       "\n",
       "    .dataframe tbody tr th {\n",
       "        vertical-align: top;\n",
       "    }\n",
       "\n",
       "    .dataframe thead th {\n",
       "        text-align: right;\n",
       "    }\n",
       "</style>\n",
       "<table border=\"1\" class=\"dataframe\">\n",
       "  <thead>\n",
       "    <tr style=\"text-align: right;\">\n",
       "      <th></th>\n",
       "      <th>backers_count</th>\n",
       "      <th>converted_pledged_amount</th>\n",
       "      <th>staff_pick</th>\n",
       "      <th>days_until_launch</th>\n",
       "      <th>days_until_success</th>\n",
       "      <th>days_total</th>\n",
       "      <th>days_diff_total_success</th>\n",
       "      <th>converted_goal_amount</th>\n",
       "      <th>blurb_length</th>\n",
       "      <th>name_length</th>\n",
       "      <th>state</th>\n",
       "      <th>avg_usd_per_backer</th>\n",
       "      <th>goal_usd_pledged_diff</th>\n",
       "    </tr>\n",
       "  </thead>\n",
       "  <tbody>\n",
       "    <tr>\n",
       "      <th>count</th>\n",
       "      <td>56398.0</td>\n",
       "      <td>56398.0</td>\n",
       "      <td>56398.0</td>\n",
       "      <td>56398.0</td>\n",
       "      <td>56398.0</td>\n",
       "      <td>56398.0</td>\n",
       "      <td>56398.0</td>\n",
       "      <td>56398.0</td>\n",
       "      <td>56398.0</td>\n",
       "      <td>56398.0</td>\n",
       "      <td>56398.0</td>\n",
       "      <td>45121.0</td>\n",
       "      <td>56398.0</td>\n",
       "    </tr>\n",
       "    <tr>\n",
       "      <th>mean</th>\n",
       "      <td>12.0</td>\n",
       "      <td>1099.0</td>\n",
       "      <td>0.0</td>\n",
       "      <td>42.0</td>\n",
       "      <td>35.0</td>\n",
       "      <td>35.0</td>\n",
       "      <td>-0.0</td>\n",
       "      <td>85539.0</td>\n",
       "      <td>113.0</td>\n",
       "      <td>33.0</td>\n",
       "      <td>0.0</td>\n",
       "      <td>58.0</td>\n",
       "      <td>-84440.0</td>\n",
       "    </tr>\n",
       "    <tr>\n",
       "      <th>std</th>\n",
       "      <td>49.0</td>\n",
       "      <td>5828.0</td>\n",
       "      <td>0.0</td>\n",
       "      <td>125.0</td>\n",
       "      <td>13.0</td>\n",
       "      <td>13.0</td>\n",
       "      <td>0.0</td>\n",
       "      <td>1816106.0</td>\n",
       "      <td>27.0</td>\n",
       "      <td>16.0</td>\n",
       "      <td>0.0</td>\n",
       "      <td>142.0</td>\n",
       "      <td>1816060.0</td>\n",
       "    </tr>\n",
       "    <tr>\n",
       "      <th>min</th>\n",
       "      <td>0.0</td>\n",
       "      <td>0.0</td>\n",
       "      <td>0.0</td>\n",
       "      <td>0.0</td>\n",
       "      <td>1.0</td>\n",
       "      <td>1.0</td>\n",
       "      <td>-18.0</td>\n",
       "      <td>1.0</td>\n",
       "      <td>1.0</td>\n",
       "      <td>1.0</td>\n",
       "      <td>0.0</td>\n",
       "      <td>0.0</td>\n",
       "      <td>-132567974.0</td>\n",
       "    </tr>\n",
       "    <tr>\n",
       "      <th>25%</th>\n",
       "      <td>1.0</td>\n",
       "      <td>1.0</td>\n",
       "      <td>0.0</td>\n",
       "      <td>2.0</td>\n",
       "      <td>30.0</td>\n",
       "      <td>30.0</td>\n",
       "      <td>0.0</td>\n",
       "      <td>2500.0</td>\n",
       "      <td>103.0</td>\n",
       "      <td>19.0</td>\n",
       "      <td>0.0</td>\n",
       "      <td>10.0</td>\n",
       "      <td>-19999.0</td>\n",
       "    </tr>\n",
       "    <tr>\n",
       "      <th>50%</th>\n",
       "      <td>3.0</td>\n",
       "      <td>56.0</td>\n",
       "      <td>0.0</td>\n",
       "      <td>7.0</td>\n",
       "      <td>30.0</td>\n",
       "      <td>30.0</td>\n",
       "      <td>0.0</td>\n",
       "      <td>7000.0</td>\n",
       "      <td>125.0</td>\n",
       "      <td>31.0</td>\n",
       "      <td>0.0</td>\n",
       "      <td>30.0</td>\n",
       "      <td>-6176.0</td>\n",
       "    </tr>\n",
       "    <tr>\n",
       "      <th>75%</th>\n",
       "      <td>9.0</td>\n",
       "      <td>443.0</td>\n",
       "      <td>0.0</td>\n",
       "      <td>27.0</td>\n",
       "      <td>40.0</td>\n",
       "      <td>40.0</td>\n",
       "      <td>0.0</td>\n",
       "      <td>22000.0</td>\n",
       "      <td>132.0</td>\n",
       "      <td>46.0</td>\n",
       "      <td>0.0</td>\n",
       "      <td>62.0</td>\n",
       "      <td>-2000.0</td>\n",
       "    </tr>\n",
       "    <tr>\n",
       "      <th>max</th>\n",
       "      <td>4435.0</td>\n",
       "      <td>607628.0</td>\n",
       "      <td>1.0</td>\n",
       "      <td>2126.0</td>\n",
       "      <td>92.0</td>\n",
       "      <td>92.0</td>\n",
       "      <td>0.0</td>\n",
       "      <td>132567974.0</td>\n",
       "      <td>150.0</td>\n",
       "      <td>85.0</td>\n",
       "      <td>0.0</td>\n",
       "      <td>10000.0</td>\n",
       "      <td>7891.0</td>\n",
       "    </tr>\n",
       "  </tbody>\n",
       "</table>\n",
       "</div>"
      ],
      "text/plain": [
       "       backers_count  converted_pledged_amount  staff_pick  days_until_launch  \\\n",
       "count        56398.0                   56398.0     56398.0            56398.0   \n",
       "mean            12.0                    1099.0         0.0               42.0   \n",
       "std             49.0                    5828.0         0.0              125.0   \n",
       "min              0.0                       0.0         0.0                0.0   \n",
       "25%              1.0                       1.0         0.0                2.0   \n",
       "50%              3.0                      56.0         0.0                7.0   \n",
       "75%              9.0                     443.0         0.0               27.0   \n",
       "max           4435.0                  607628.0         1.0             2126.0   \n",
       "\n",
       "       days_until_success  days_total  days_diff_total_success  \\\n",
       "count             56398.0     56398.0                  56398.0   \n",
       "mean                 35.0        35.0                     -0.0   \n",
       "std                  13.0        13.0                      0.0   \n",
       "min                   1.0         1.0                    -18.0   \n",
       "25%                  30.0        30.0                      0.0   \n",
       "50%                  30.0        30.0                      0.0   \n",
       "75%                  40.0        40.0                      0.0   \n",
       "max                  92.0        92.0                      0.0   \n",
       "\n",
       "       converted_goal_amount  blurb_length  name_length    state  \\\n",
       "count                56398.0       56398.0      56398.0  56398.0   \n",
       "mean                 85539.0         113.0         33.0      0.0   \n",
       "std                1816106.0          27.0         16.0      0.0   \n",
       "min                      1.0           1.0          1.0      0.0   \n",
       "25%                   2500.0         103.0         19.0      0.0   \n",
       "50%                   7000.0         125.0         31.0      0.0   \n",
       "75%                  22000.0         132.0         46.0      0.0   \n",
       "max              132567974.0         150.0         85.0      0.0   \n",
       "\n",
       "       avg_usd_per_backer  goal_usd_pledged_diff  \n",
       "count             45121.0                56398.0  \n",
       "mean                 58.0               -84440.0  \n",
       "std                 142.0              1816060.0  \n",
       "min                   0.0           -132567974.0  \n",
       "25%                  10.0               -19999.0  \n",
       "50%                  30.0                -6176.0  \n",
       "75%                  62.0                -2000.0  \n",
       "max               10000.0                 7891.0  "
      ]
     },
     "execution_count": 52,
     "metadata": {},
     "output_type": "execute_result"
    }
   ],
   "source": [
    "state0 = df.query(\"state == 0\")\n",
    "state0.describe().round()"
   ]
  },
  {
   "cell_type": "markdown",
   "metadata": {},
   "source": [
    "Kurz Diffs. erklären"
   ]
  },
  {
   "cell_type": "code",
   "execution_count": 54,
   "metadata": {},
   "outputs": [
    {
     "data": {
      "text/plain": [
       "49.838815864151286"
      ]
     },
     "execution_count": 54,
     "metadata": {},
     "output_type": "execute_result"
    }
   ],
   "source": [
    "#How much % of the projects goals are between 1k - 10k\n",
    "state1.query(\"converted_goal_amount > 1000 and converted_goal_amount < 10000\").shape[0] / state1.shape[0] * 100"
   ]
  },
  {
   "cell_type": "code",
   "execution_count": 56,
   "metadata": {},
   "outputs": [
    {
     "data": {
      "text/plain": [
       "2.1038644668364523"
      ]
     },
     "execution_count": 56,
     "metadata": {},
     "output_type": "execute_result"
    }
   ],
   "source": [
    "#How much % of the projects got more than 100k?\n",
    "state1.query(\"converted_pledged_amount > 100000\").shape[0] / df.shape[0] * 100"
   ]
  },
  {
   "cell_type": "code",
   "execution_count": 57,
   "metadata": {},
   "outputs": [
    {
     "data": {
      "text/html": [
       "<div>\n",
       "<style scoped>\n",
       "    .dataframe tbody tr th:only-of-type {\n",
       "        vertical-align: middle;\n",
       "    }\n",
       "\n",
       "    .dataframe tbody tr th {\n",
       "        vertical-align: top;\n",
       "    }\n",
       "\n",
       "    .dataframe thead th {\n",
       "        text-align: right;\n",
       "    }\n",
       "</style>\n",
       "<table border=\"1\" class=\"dataframe\">\n",
       "  <thead>\n",
       "    <tr style=\"text-align: right;\">\n",
       "      <th></th>\n",
       "      <th>backers_count</th>\n",
       "      <th>category</th>\n",
       "      <th>converted_pledged_amount</th>\n",
       "      <th>country</th>\n",
       "      <th>created_at</th>\n",
       "      <th>currency</th>\n",
       "      <th>deadline</th>\n",
       "      <th>launched_at</th>\n",
       "      <th>staff_pick</th>\n",
       "      <th>state_changed_at</th>\n",
       "      <th>days_until_launch</th>\n",
       "      <th>days_until_success</th>\n",
       "      <th>days_total</th>\n",
       "      <th>days_diff_total_success</th>\n",
       "      <th>converted_goal_amount</th>\n",
       "      <th>blurb_length</th>\n",
       "      <th>name_length</th>\n",
       "      <th>state</th>\n",
       "      <th>avg_usd_per_backer</th>\n",
       "      <th>goal_usd_pledged_diff</th>\n",
       "    </tr>\n",
       "  </thead>\n",
       "  <tbody>\n",
       "    <tr>\n",
       "      <th>100517</th>\n",
       "      <td>63416</td>\n",
       "      <td>games</td>\n",
       "      <td>8596474</td>\n",
       "      <td>US</td>\n",
       "      <td>2012-05-15</td>\n",
       "      <td>USD</td>\n",
       "      <td>2012-08-09</td>\n",
       "      <td>2012-07-10</td>\n",
       "      <td>1</td>\n",
       "      <td>2012-08-09</td>\n",
       "      <td>56</td>\n",
       "      <td>30</td>\n",
       "      <td>30</td>\n",
       "      <td>0</td>\n",
       "      <td>950000</td>\n",
       "      <td>127</td>\n",
       "      <td>38</td>\n",
       "      <td>1</td>\n",
       "      <td>135.556863</td>\n",
       "      <td>7646474</td>\n",
       "    </tr>\n",
       "    <tr>\n",
       "      <th>73124</th>\n",
       "      <td>69320</td>\n",
       "      <td>games</td>\n",
       "      <td>6333295</td>\n",
       "      <td>US</td>\n",
       "      <td>2015-06-02</td>\n",
       "      <td>USD</td>\n",
       "      <td>2015-07-18</td>\n",
       "      <td>2015-06-16</td>\n",
       "      <td>1</td>\n",
       "      <td>2015-07-18</td>\n",
       "      <td>14</td>\n",
       "      <td>32</td>\n",
       "      <td>32</td>\n",
       "      <td>0</td>\n",
       "      <td>2000000</td>\n",
       "      <td>76</td>\n",
       "      <td>9</td>\n",
       "      <td>1</td>\n",
       "      <td>91.363171</td>\n",
       "      <td>4333295</td>\n",
       "    </tr>\n",
       "    <tr>\n",
       "      <th>140119</th>\n",
       "      <td>41939</td>\n",
       "      <td>games</td>\n",
       "      <td>6256244</td>\n",
       "      <td>GB</td>\n",
       "      <td>2018-11-09</td>\n",
       "      <td>GBP</td>\n",
       "      <td>2018-12-28</td>\n",
       "      <td>2018-12-05</td>\n",
       "      <td>1</td>\n",
       "      <td>2018-12-28</td>\n",
       "      <td>26</td>\n",
       "      <td>23</td>\n",
       "      <td>23</td>\n",
       "      <td>0</td>\n",
       "      <td>53027</td>\n",
       "      <td>133</td>\n",
       "      <td>33</td>\n",
       "      <td>1</td>\n",
       "      <td>149.174849</td>\n",
       "      <td>6203217</td>\n",
       "    </tr>\n",
       "    <tr>\n",
       "      <th>43936</th>\n",
       "      <td>41939</td>\n",
       "      <td>games</td>\n",
       "      <td>6256244</td>\n",
       "      <td>GB</td>\n",
       "      <td>2018-11-09</td>\n",
       "      <td>GBP</td>\n",
       "      <td>2018-12-28</td>\n",
       "      <td>2018-12-05</td>\n",
       "      <td>1</td>\n",
       "      <td>2018-12-28</td>\n",
       "      <td>26</td>\n",
       "      <td>23</td>\n",
       "      <td>23</td>\n",
       "      <td>0</td>\n",
       "      <td>53027</td>\n",
       "      <td>133</td>\n",
       "      <td>33</td>\n",
       "      <td>1</td>\n",
       "      <td>149.174849</td>\n",
       "      <td>6203217</td>\n",
       "    </tr>\n",
       "    <tr>\n",
       "      <th>135840</th>\n",
       "      <td>91585</td>\n",
       "      <td>film &amp; video</td>\n",
       "      <td>5702153</td>\n",
       "      <td>US</td>\n",
       "      <td>2011-11-04</td>\n",
       "      <td>USD</td>\n",
       "      <td>2013-04-13</td>\n",
       "      <td>2013-03-13</td>\n",
       "      <td>1</td>\n",
       "      <td>2013-04-13</td>\n",
       "      <td>495</td>\n",
       "      <td>31</td>\n",
       "      <td>31</td>\n",
       "      <td>0</td>\n",
       "      <td>2000000</td>\n",
       "      <td>125</td>\n",
       "      <td>31</td>\n",
       "      <td>1</td>\n",
       "      <td>62.260774</td>\n",
       "      <td>3702153</td>\n",
       "    </tr>\n",
       "    <tr>\n",
       "      <th>98125</th>\n",
       "      <td>64867</td>\n",
       "      <td>games</td>\n",
       "      <td>5545991</td>\n",
       "      <td>US</td>\n",
       "      <td>2015-05-02</td>\n",
       "      <td>USD</td>\n",
       "      <td>2015-06-13</td>\n",
       "      <td>2015-05-11</td>\n",
       "      <td>1</td>\n",
       "      <td>2015-06-13</td>\n",
       "      <td>9</td>\n",
       "      <td>33</td>\n",
       "      <td>33</td>\n",
       "      <td>0</td>\n",
       "      <td>500000</td>\n",
       "      <td>110</td>\n",
       "      <td>33</td>\n",
       "      <td>1</td>\n",
       "      <td>85.497880</td>\n",
       "      <td>5045991</td>\n",
       "    </tr>\n",
       "    <tr>\n",
       "      <th>20842</th>\n",
       "      <td>105857</td>\n",
       "      <td>technology</td>\n",
       "      <td>5408916</td>\n",
       "      <td>US</td>\n",
       "      <td>2014-04-23</td>\n",
       "      <td>USD</td>\n",
       "      <td>2014-07-02</td>\n",
       "      <td>2014-05-28</td>\n",
       "      <td>1</td>\n",
       "      <td>2014-07-02</td>\n",
       "      <td>35</td>\n",
       "      <td>35</td>\n",
       "      <td>35</td>\n",
       "      <td>0</td>\n",
       "      <td>1000000</td>\n",
       "      <td>135</td>\n",
       "      <td>55</td>\n",
       "      <td>1</td>\n",
       "      <td>51.096441</td>\n",
       "      <td>4408916</td>\n",
       "    </tr>\n",
       "    <tr>\n",
       "      <th>126552</th>\n",
       "      <td>26828</td>\n",
       "      <td>technology</td>\n",
       "      <td>5333792</td>\n",
       "      <td>US</td>\n",
       "      <td>2017-03-06</td>\n",
       "      <td>USD</td>\n",
       "      <td>2017-04-27</td>\n",
       "      <td>2017-03-23</td>\n",
       "      <td>0</td>\n",
       "      <td>2017-04-27</td>\n",
       "      <td>17</td>\n",
       "      <td>35</td>\n",
       "      <td>35</td>\n",
       "      <td>0</td>\n",
       "      <td>50000</td>\n",
       "      <td>131</td>\n",
       "      <td>60</td>\n",
       "      <td>1</td>\n",
       "      <td>198.814373</td>\n",
       "      <td>5283792</td>\n",
       "    </tr>\n",
       "    <tr>\n",
       "      <th>93003</th>\n",
       "      <td>26828</td>\n",
       "      <td>technology</td>\n",
       "      <td>5333792</td>\n",
       "      <td>US</td>\n",
       "      <td>2017-03-06</td>\n",
       "      <td>USD</td>\n",
       "      <td>2017-04-27</td>\n",
       "      <td>2017-03-23</td>\n",
       "      <td>0</td>\n",
       "      <td>2017-04-27</td>\n",
       "      <td>17</td>\n",
       "      <td>35</td>\n",
       "      <td>35</td>\n",
       "      <td>0</td>\n",
       "      <td>50000</td>\n",
       "      <td>131</td>\n",
       "      <td>60</td>\n",
       "      <td>1</td>\n",
       "      <td>198.814373</td>\n",
       "      <td>5283792</td>\n",
       "    </tr>\n",
       "    <tr>\n",
       "      <th>52958</th>\n",
       "      <td>5946</td>\n",
       "      <td>technology</td>\n",
       "      <td>4236618</td>\n",
       "      <td>US</td>\n",
       "      <td>2016-12-09</td>\n",
       "      <td>USD</td>\n",
       "      <td>2017-11-03</td>\n",
       "      <td>2017-09-19</td>\n",
       "      <td>1</td>\n",
       "      <td>2017-11-03</td>\n",
       "      <td>284</td>\n",
       "      <td>45</td>\n",
       "      <td>45</td>\n",
       "      <td>0</td>\n",
       "      <td>200000</td>\n",
       "      <td>129</td>\n",
       "      <td>38</td>\n",
       "      <td>1</td>\n",
       "      <td>712.515641</td>\n",
       "      <td>4036618</td>\n",
       "    </tr>\n",
       "  </tbody>\n",
       "</table>\n",
       "</div>"
      ],
      "text/plain": [
       "        backers_count      category  converted_pledged_amount country  \\\n",
       "100517          63416         games                   8596474      US   \n",
       "73124           69320         games                   6333295      US   \n",
       "140119          41939         games                   6256244      GB   \n",
       "43936           41939         games                   6256244      GB   \n",
       "135840          91585  film & video                   5702153      US   \n",
       "98125           64867         games                   5545991      US   \n",
       "20842          105857    technology                   5408916      US   \n",
       "126552          26828    technology                   5333792      US   \n",
       "93003           26828    technology                   5333792      US   \n",
       "52958            5946    technology                   4236618      US   \n",
       "\n",
       "        created_at currency    deadline launched_at  staff_pick  \\\n",
       "100517  2012-05-15      USD  2012-08-09  2012-07-10           1   \n",
       "73124   2015-06-02      USD  2015-07-18  2015-06-16           1   \n",
       "140119  2018-11-09      GBP  2018-12-28  2018-12-05           1   \n",
       "43936   2018-11-09      GBP  2018-12-28  2018-12-05           1   \n",
       "135840  2011-11-04      USD  2013-04-13  2013-03-13           1   \n",
       "98125   2015-05-02      USD  2015-06-13  2015-05-11           1   \n",
       "20842   2014-04-23      USD  2014-07-02  2014-05-28           1   \n",
       "126552  2017-03-06      USD  2017-04-27  2017-03-23           0   \n",
       "93003   2017-03-06      USD  2017-04-27  2017-03-23           0   \n",
       "52958   2016-12-09      USD  2017-11-03  2017-09-19           1   \n",
       "\n",
       "       state_changed_at  days_until_launch  days_until_success  days_total  \\\n",
       "100517       2012-08-09                 56                  30          30   \n",
       "73124        2015-07-18                 14                  32          32   \n",
       "140119       2018-12-28                 26                  23          23   \n",
       "43936        2018-12-28                 26                  23          23   \n",
       "135840       2013-04-13                495                  31          31   \n",
       "98125        2015-06-13                  9                  33          33   \n",
       "20842        2014-07-02                 35                  35          35   \n",
       "126552       2017-04-27                 17                  35          35   \n",
       "93003        2017-04-27                 17                  35          35   \n",
       "52958        2017-11-03                284                  45          45   \n",
       "\n",
       "        days_diff_total_success  converted_goal_amount  blurb_length  \\\n",
       "100517                        0                 950000           127   \n",
       "73124                         0                2000000            76   \n",
       "140119                        0                  53027           133   \n",
       "43936                         0                  53027           133   \n",
       "135840                        0                2000000           125   \n",
       "98125                         0                 500000           110   \n",
       "20842                         0                1000000           135   \n",
       "126552                        0                  50000           131   \n",
       "93003                         0                  50000           131   \n",
       "52958                         0                 200000           129   \n",
       "\n",
       "        name_length  state  avg_usd_per_backer  goal_usd_pledged_diff  \n",
       "100517           38      1          135.556863                7646474  \n",
       "73124             9      1           91.363171                4333295  \n",
       "140119           33      1          149.174849                6203217  \n",
       "43936            33      1          149.174849                6203217  \n",
       "135840           31      1           62.260774                3702153  \n",
       "98125            33      1           85.497880                5045991  \n",
       "20842            55      1           51.096441                4408916  \n",
       "126552           60      1          198.814373                5283792  \n",
       "93003            60      1          198.814373                5283792  \n",
       "52958            38      1          712.515641                4036618  "
      ]
     },
     "execution_count": 57,
     "metadata": {},
     "output_type": "execute_result"
    }
   ],
   "source": [
    "#Top 10 projects with the most money \n",
    "state1.sort_values(by=\"converted_pledged_amount\", ascending=False)[0:10]"
   ]
  },
  {
   "cell_type": "markdown",
   "metadata": {},
   "source": [
    " "
   ]
  },
  {
   "cell_type": "markdown",
   "metadata": {},
   "source": [
    "**Success per Category** "
   ]
  },
  {
   "cell_type": "code",
   "execution_count": 60,
   "metadata": {},
   "outputs": [
    {
     "data": {
      "text/html": [
       "<div>\n",
       "<style scoped>\n",
       "    .dataframe tbody tr th:only-of-type {\n",
       "        vertical-align: middle;\n",
       "    }\n",
       "\n",
       "    .dataframe tbody tr th {\n",
       "        vertical-align: top;\n",
       "    }\n",
       "\n",
       "    .dataframe thead th {\n",
       "        text-align: right;\n",
       "    }\n",
       "</style>\n",
       "<table border=\"1\" class=\"dataframe\">\n",
       "  <thead>\n",
       "    <tr style=\"text-align: right;\">\n",
       "      <th></th>\n",
       "      <th>dance</th>\n",
       "      <th>comics</th>\n",
       "      <th>theater</th>\n",
       "      <th>publishing</th>\n",
       "      <th>design</th>\n",
       "      <th>music</th>\n",
       "      <th>games</th>\n",
       "      <th>fashion</th>\n",
       "      <th>film &amp; video</th>\n",
       "      <th>art</th>\n",
       "      <th>photography</th>\n",
       "      <th>crafts</th>\n",
       "      <th>technology</th>\n",
       "      <th>food</th>\n",
       "      <th>journalism</th>\n",
       "    </tr>\n",
       "  </thead>\n",
       "  <tbody>\n",
       "    <tr>\n",
       "      <th>cat_success_percent</th>\n",
       "      <td>84.0</td>\n",
       "      <td>84.0</td>\n",
       "      <td>74.0</td>\n",
       "      <td>73.0</td>\n",
       "      <td>71.0</td>\n",
       "      <td>69.0</td>\n",
       "      <td>66.0</td>\n",
       "      <td>65.0</td>\n",
       "      <td>61.0</td>\n",
       "      <td>61.0</td>\n",
       "      <td>55.0</td>\n",
       "      <td>52.0</td>\n",
       "      <td>42.0</td>\n",
       "      <td>37.0</td>\n",
       "      <td>34.0</td>\n",
       "    </tr>\n",
       "  </tbody>\n",
       "</table>\n",
       "</div>"
      ],
      "text/plain": [
       "                     dance  comics  theater  publishing  design  music  games  \\\n",
       "cat_success_percent   84.0    84.0     74.0        73.0    71.0   69.0   66.0   \n",
       "\n",
       "                     fashion  film & video   art  photography  crafts  \\\n",
       "cat_success_percent     65.0          61.0  61.0         55.0    52.0   \n",
       "\n",
       "                     technology  food  journalism  \n",
       "cat_success_percent        42.0  37.0        34.0  "
      ]
     },
     "metadata": {},
     "output_type": "display_data"
    },
    {
     "data": {
      "text/plain": [
       "Text(0, 0.5, 'success_per_cat')"
      ]
     },
     "execution_count": 60,
     "metadata": {},
     "output_type": "execute_result"
    },
    {
     "data": {
      "image/png": "[encoded data removed]",
      "text/plain": [
       "<Figure size 1008x360 with 1 Axes>"
      ]
     },
     "metadata": {
      "needs_background": "light"
     },
     "output_type": "display_data"
    }
   ],
   "source": [
    "#get the amount of projects from each category \n",
    "cat_count = df[\"category\"].value_counts()\n",
    "\n",
    "#only show the amount of successful projects per category \n",
    "cat_success = df[df[\"state\"] == 1]\n",
    "cat_success_count = cat_success[\"category\"].value_counts()\n",
    "#get the successful rate in percent for each category \n",
    "cat_success_percent = (cat_success_count / cat_count) * 100\n",
    "\n",
    "#Get a list of all categories \n",
    "#cat_list = list(df['category'].unique())\n",
    "cat_list_sorted = list(df['category'].unique())\n",
    "cat_list_sorted.sort()\n",
    "cat_list_sorted\n",
    "\n",
    "# Create a table of the average usd spent per backer for every category\n",
    "cat_success_table = dict()\n",
    "for idx, category in enumerate(cat_list_sorted):\n",
    "    cat_df = df[df['category'] == category]\n",
    "    cat_success_table.update({category : cat_success_percent[idx]})\n",
    "\n",
    "# Visualize the results\n",
    "#Table\n",
    "cat_success_df = pd.DataFrame(cat_success_table, index=['cat_success_percent'])\n",
    "cat_success_df.sort_values('cat_success_percent', axis=1, inplace=True, ascending=False)\n",
    "display(cat_success_df.head().round())\n",
    "\n",
    "#Plot\n",
    "ax = cat_success_df.plot(kind='bar', \n",
    "                    title='success_per_cat', \n",
    "                    rot=0, figsize=(14,5))\n",
    "ax.set_xlabel('Categories')\n",
    "ax.set_ylabel('success_per_cat')"
   ]
  },
  {
   "cell_type": "markdown",
   "metadata": {},
   "source": [
    "**Bezeichnungen ändern**"
   ]
  },
  {
   "cell_type": "code",
   "execution_count": null,
   "metadata": {},
   "outputs": [],
   "source": []
  },
  {
   "cell_type": "markdown",
   "metadata": {},
   "source": [
    "**Goal & Pledged per Category**"
   ]
  },
  {
   "cell_type": "code",
   "execution_count": 62,
   "metadata": {},
   "outputs": [],
   "source": [
    "#Median goal per Category of succesful projects\n",
    "#get the amount of projects from each category \n",
    "cat_count = df[\"category\"].value_counts()\n",
    "\n",
    "#only show the amount of successful projects per category \n",
    "cat_success = df[df[\"state\"] == 1]\n",
    "cat_success_count = cat_success[\"category\"].value_counts()\n",
    "\n",
    "#get the median goal for each category \n",
    "cat_success_mgoal = (cat_success_count / cat_count) * 100\n",
    "#cat_success_mgoal.sort_values(ascending=False).round(2)"
   ]
  },
  {
   "cell_type": "code",
   "execution_count": 64,
   "metadata": {},
   "outputs": [
    {
     "data": {
      "text/html": [
       "<div>\n",
       "<style scoped>\n",
       "    .dataframe tbody tr th:only-of-type {\n",
       "        vertical-align: middle;\n",
       "    }\n",
       "\n",
       "    .dataframe tbody tr th {\n",
       "        vertical-align: top;\n",
       "    }\n",
       "\n",
       "    .dataframe thead th {\n",
       "        text-align: right;\n",
       "    }\n",
       "</style>\n",
       "<table border=\"1\" class=\"dataframe\">\n",
       "  <thead>\n",
       "    <tr style=\"text-align: right;\">\n",
       "      <th></th>\n",
       "      <th>technology</th>\n",
       "      <th>food</th>\n",
       "      <th>film &amp; video</th>\n",
       "      <th>design</th>\n",
       "      <th>games</th>\n",
       "      <th>journalism</th>\n",
       "      <th>fashion</th>\n",
       "      <th>music</th>\n",
       "      <th>photography</th>\n",
       "      <th>publishing</th>\n",
       "      <th>dance</th>\n",
       "      <th>theater</th>\n",
       "      <th>comics</th>\n",
       "      <th>art</th>\n",
       "      <th>crafts</th>\n",
       "    </tr>\n",
       "  </thead>\n",
       "  <tbody>\n",
       "    <tr>\n",
       "      <th>median_goal</th>\n",
       "      <td>15000.0</td>\n",
       "      <td>10000.0</td>\n",
       "      <td>5500.0</td>\n",
       "      <td>5000.0</td>\n",
       "      <td>5000.0</td>\n",
       "      <td>5000.0</td>\n",
       "      <td>4000.0</td>\n",
       "      <td>3827.0</td>\n",
       "      <td>3532.0</td>\n",
       "      <td>3500.0</td>\n",
       "      <td>3260.0</td>\n",
       "      <td>3000.0</td>\n",
       "      <td>2600.0</td>\n",
       "      <td>2250.0</td>\n",
       "      <td>1549.0</td>\n",
       "    </tr>\n",
       "    <tr>\n",
       "      <th>median_pledged</th>\n",
       "      <td>1628.0</td>\n",
       "      <td>550.0</td>\n",
       "      <td>2086.0</td>\n",
       "      <td>4850.0</td>\n",
       "      <td>3498.0</td>\n",
       "      <td>117.0</td>\n",
       "      <td>1676.0</td>\n",
       "      <td>2345.0</td>\n",
       "      <td>987.0</td>\n",
       "      <td>2476.0</td>\n",
       "      <td>3004.0</td>\n",
       "      <td>2191.0</td>\n",
       "      <td>2852.0</td>\n",
       "      <td>922.0</td>\n",
       "      <td>447.0</td>\n",
       "    </tr>\n",
       "  </tbody>\n",
       "</table>\n",
       "</div>"
      ],
      "text/plain": [
       "                technology     food  film & video  design   games  journalism  \\\n",
       "median_goal        15000.0  10000.0        5500.0  5000.0  5000.0      5000.0   \n",
       "median_pledged      1628.0    550.0        2086.0  4850.0  3498.0       117.0   \n",
       "\n",
       "                fashion   music  photography  publishing   dance  theater  \\\n",
       "median_goal      4000.0  3827.0       3532.0      3500.0  3260.0   3000.0   \n",
       "median_pledged   1676.0  2345.0        987.0      2476.0  3004.0   2191.0   \n",
       "\n",
       "                comics     art  crafts  \n",
       "median_goal     2600.0  2250.0  1549.0  \n",
       "median_pledged  2852.0   922.0   447.0  "
      ]
     },
     "metadata": {},
     "output_type": "display_data"
    },
    {
     "data": {
      "text/plain": [
       "Text(0, 0.5, 'Median goal per Category')"
      ]
     },
     "execution_count": 64,
     "metadata": {},
     "output_type": "execute_result"
    },
    {
     "data": {
      "image/png": "[encoded data removed]",
      "text/plain": [
       "<Figure size 1008x360 with 1 Axes>"
      ]
     },
     "metadata": {
      "needs_background": "light"
     },
     "output_type": "display_data"
    }
   ],
   "source": [
    "#Get a list of all categories\n",
    "cat_list_sorted = list(df['category'].unique())\n",
    "cat_list_sorted.sort()\n",
    "cat_list_sorted\n",
    "\n",
    "#Create a table with categories & converted_goal_amount median\n",
    "cat_mgoal_table = dict()\n",
    "for idx, category in enumerate(cat_list_sorted):\n",
    "    cat_df = df[df['category'] == category]\n",
    "    cat_mgoal_table.update({category : cat_df.converted_goal_amount.median()})\n",
    "    \n",
    "cat_mpledged_table = dict()\n",
    "for idx, category in enumerate(cat_list_sorted):\n",
    "    cat_df = df[df['category'] == category]\n",
    "    cat_mpledged_table.update({category : cat_df.converted_pledged_amount.median()})\n",
    "\n",
    "# Visualize the results\n",
    "#Table\n",
    "cat_mgoal_df = pd.DataFrame(cat_mgoal_table, index=['median_goal'])\n",
    "cat_mpledged_df = pd.DataFrame(cat_mpledged_table, index=['median_pledged'])\n",
    "cat_mgoal_df.sort_values('median_goal', axis=1, inplace=True, ascending=False)\n",
    "\n",
    "#join both dataframes\n",
    "cat_medians_df = cat_mgoal_df.append(cat_mpledged_df)\n",
    "display(cat_medians_df.head().round())\n",
    "\n",
    "#Plot\n",
    "ax = cat_mgoal_df.plot(kind='bar', \n",
    "                    title='Median goal per Category', \n",
    "                    rot=0, figsize=(14,5))\n",
    "ax.set_xlabel('Categories')\n",
    "ax.set_ylabel('Median goal per Category')"
   ]
  },
  {
   "cell_type": "code",
   "execution_count": 67,
   "metadata": {},
   "outputs": [
    {
     "data": {
      "text/plain": [
       "Text(0, 0.5, 'Median pledged per Category')"
      ]
     },
     "execution_count": 67,
     "metadata": {},
     "output_type": "execute_result"
    },
    {
     "data": {
      "image/png": "[encoded data removed]",
      "text/plain": [
       "<Figure size 1008x360 with 1 Axes>"
      ]
     },
     "metadata": {
      "needs_background": "light"
     },
     "output_type": "display_data"
    }
   ],
   "source": [
    "#Plot\n",
    "cat_mpledged_df.sort_values('median_pledged', axis=1, inplace=True, ascending=False)\n",
    "\n",
    "ax = cat_mpledged_df.plot(kind='bar', \n",
    "                    title='Median pledged per Category', \n",
    "                    rot=0, figsize=(14,5))\n",
    "ax.set_xlabel('Categories')\n",
    "ax.set_ylabel('Median pledged per Category')"
   ]
  },
  {
   "cell_type": "code",
   "execution_count": 72,
   "metadata": {},
   "outputs": [
    {
     "data": {
      "text/html": [
       "<div>\n",
       "<style scoped>\n",
       "    .dataframe tbody tr th:only-of-type {\n",
       "        vertical-align: middle;\n",
       "    }\n",
       "\n",
       "    .dataframe tbody tr th {\n",
       "        vertical-align: top;\n",
       "    }\n",
       "\n",
       "    .dataframe thead th {\n",
       "        text-align: right;\n",
       "    }\n",
       "</style>\n",
       "<table border=\"1\" class=\"dataframe\">\n",
       "  <thead>\n",
       "    <tr style=\"text-align: right;\">\n",
       "      <th></th>\n",
       "      <th>technology</th>\n",
       "      <th>food</th>\n",
       "      <th>film &amp; video</th>\n",
       "      <th>design</th>\n",
       "      <th>games</th>\n",
       "      <th>journalism</th>\n",
       "      <th>fashion</th>\n",
       "      <th>music</th>\n",
       "      <th>photography</th>\n",
       "      <th>publishing</th>\n",
       "      <th>dance</th>\n",
       "      <th>theater</th>\n",
       "      <th>comics</th>\n",
       "      <th>art</th>\n",
       "      <th>crafts</th>\n",
       "    </tr>\n",
       "  </thead>\n",
       "  <tbody>\n",
       "    <tr>\n",
       "      <th>median_goal</th>\n",
       "      <td>15000.0</td>\n",
       "      <td>10000.0</td>\n",
       "      <td>5500.0</td>\n",
       "      <td>5000.0</td>\n",
       "      <td>5000.0</td>\n",
       "      <td>5000.0</td>\n",
       "      <td>4000.0</td>\n",
       "      <td>3827.0</td>\n",
       "      <td>3532.5</td>\n",
       "      <td>3500.0</td>\n",
       "      <td>3260.0</td>\n",
       "      <td>3000.0</td>\n",
       "      <td>2600.0</td>\n",
       "      <td>2250.0</td>\n",
       "      <td>1549.0</td>\n",
       "    </tr>\n",
       "    <tr>\n",
       "      <th>median_pledged</th>\n",
       "      <td>1628.0</td>\n",
       "      <td>550.0</td>\n",
       "      <td>2086.0</td>\n",
       "      <td>4850.0</td>\n",
       "      <td>3498.5</td>\n",
       "      <td>117.0</td>\n",
       "      <td>1676.0</td>\n",
       "      <td>2345.0</td>\n",
       "      <td>987.0</td>\n",
       "      <td>2476.0</td>\n",
       "      <td>3004.5</td>\n",
       "      <td>2191.0</td>\n",
       "      <td>2852.0</td>\n",
       "      <td>922.5</td>\n",
       "      <td>447.0</td>\n",
       "    </tr>\n",
       "    <tr>\n",
       "      <th>median_diff</th>\n",
       "      <td>-13372.0</td>\n",
       "      <td>-9450.0</td>\n",
       "      <td>-3414.0</td>\n",
       "      <td>-150.0</td>\n",
       "      <td>-1501.5</td>\n",
       "      <td>-4883.0</td>\n",
       "      <td>-2324.0</td>\n",
       "      <td>-1482.0</td>\n",
       "      <td>-2545.5</td>\n",
       "      <td>-1024.0</td>\n",
       "      <td>-255.5</td>\n",
       "      <td>-809.0</td>\n",
       "      <td>252.0</td>\n",
       "      <td>-1327.5</td>\n",
       "      <td>-1102.0</td>\n",
       "    </tr>\n",
       "  </tbody>\n",
       "</table>\n",
       "</div>"
      ],
      "text/plain": [
       "                technology     food  film & video  design   games  journalism  \\\n",
       "median_goal        15000.0  10000.0        5500.0  5000.0  5000.0      5000.0   \n",
       "median_pledged      1628.0    550.0        2086.0  4850.0  3498.5       117.0   \n",
       "median_diff       -13372.0  -9450.0       -3414.0  -150.0 -1501.5     -4883.0   \n",
       "\n",
       "                fashion   music  photography  publishing   dance  theater  \\\n",
       "median_goal      4000.0  3827.0       3532.5      3500.0  3260.0   3000.0   \n",
       "median_pledged   1676.0  2345.0        987.0      2476.0  3004.5   2191.0   \n",
       "median_diff     -2324.0 -1482.0      -2545.5     -1024.0  -255.5   -809.0   \n",
       "\n",
       "                comics     art  crafts  \n",
       "median_goal     2600.0  2250.0  1549.0  \n",
       "median_pledged  2852.0   922.5   447.0  \n",
       "median_diff      252.0 -1327.5 -1102.0  "
      ]
     },
     "execution_count": 72,
     "metadata": {},
     "output_type": "execute_result"
    }
   ],
   "source": [
    "#Create a table for the differences between goal & pledged \n",
    "cat_medians_diff_table = []\n",
    "for i in range(len(cat_list_sorted)):\n",
    "    cat_medians_diff_table.append(cat_medians_df.iloc[1,i] - cat_medians_df.iloc[0,i])\n",
    "    \n",
    "cat_medians_diff_table_dic = dict()\n",
    "for idx, category in enumerate(list(cat_medians_df.columns)):\n",
    "    cat_df = df[df['category'] == category]\n",
    "    cat_medians_diff_table_dic.update({category : cat_medians_diff_table[idx]})\n",
    "\n",
    "\n",
    "cat_medians_diff_df = pd.DataFrame(cat_medians_diff_table_dic, index=[\"median_diff\"])\n",
    "cat_medians_df = cat_medians_df.append(cat_medians_diff_df)\n",
    "cat_medians_df"
   ]
  },
  {
   "cell_type": "code",
   "execution_count": 78,
   "metadata": {},
   "outputs": [
    {
     "data": {
      "text/plain": [
       "Text(0, 0.5, 'Median diff. per Category')"
      ]
     },
     "execution_count": 78,
     "metadata": {},
     "output_type": "execute_result"
    },
    {
     "data": {
      "image/png": "[encoded data removed]",
      "text/plain": [
       "<Figure size 1008x360 with 1 Axes>"
      ]
     },
     "metadata": {
      "needs_background": "light"
     },
     "output_type": "display_data"
    }
   ],
   "source": [
    "#Plot the diff. between goal & pledged \n",
    "#cat_mpledged_df.sort_values('median_diff', axis=1, inplace=True, ascending=False)\n",
    "\n",
    "ax = cat_medians_diff_df.plot(kind='bar', \n",
    "                    title='Median diff. per Category', \n",
    "                    rot=0, figsize=(14,5))\n",
    "ax.set_xlabel('Categories')\n",
    "ax.set_ylabel('Median diff. per Category')"
   ]
  },
  {
   "cell_type": "code",
   "execution_count": null,
   "metadata": {},
   "outputs": [],
   "source": []
  },
  {
   "cell_type": "code",
   "execution_count": null,
   "metadata": {},
   "outputs": [],
   "source": []
  }
 ],
 "metadata": {
  "kernelspec": {
   "display_name": "Python 3",
   "language": "python",
   "name": "python3"
  },
  "language_info": {
   "codemirror_mode": {
    "name": "ipython",
    "version": 3
   },
   "file_extension": ".py",
   "mimetype": "text/x-python",
   "name": "python",
   "nbconvert_exporter": "python",
   "pygments_lexer": "ipython3",
   "version": "3.8.3"
  }
 },
 "nbformat": 4,
 "nbformat_minor": 4
}
